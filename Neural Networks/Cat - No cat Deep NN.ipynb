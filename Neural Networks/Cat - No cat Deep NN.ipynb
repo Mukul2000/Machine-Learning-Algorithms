{
 "cells": [
  {
   "cell_type": "code",
   "execution_count": 1,
   "metadata": {},
   "outputs": [],
   "source": [
    "import numpy as np\n",
    "import matplotlib.pyplot as plt\n",
    "from dnn_app_utils_v2 import load_data,sigmoid,relu,sigmoid_backward,relu_backward\n",
    "\n",
    "%matplotlib inline\n",
    "plt.rcParams['figure.figsize'] = (5.0, 4.0) # set default size of plots\n",
    "plt.rcParams['image.interpolation'] = 'nearest'\n",
    "plt.rcParams['image.cmap'] = 'gray'\n",
    "\n",
    "%load_ext autoreload\n",
    "%autoreload 2\n",
    "\n",
    "np.random.seed(1)"
   ]
  },
  {
   "cell_type": "code",
   "execution_count": 2,
   "metadata": {},
   "outputs": [],
   "source": [
    "train_x_orig, train_y, test_x_orig, test_y, classes = load_data()"
   ]
  },
  {
   "cell_type": "code",
   "execution_count": 3,
   "metadata": {},
   "outputs": [
    {
     "name": "stdout",
     "output_type": "stream",
     "text": [
      "y = 1. It's a cat picture.\n"
     ]
    },
    {
     "data": {
      "image/png": "[encoded data removed]",
      "text/plain": [
       "<Figure size 432x288 with 1 Axes>"
      ]
     },
     "metadata": {},
     "output_type": "display_data"
    }
   ],
   "source": [
    "# Example of a picture\n",
    "index = 14\n",
    "plt.imshow(train_x_orig[index])\n",
    "print (\"y = \" + str(train_y[0,index]) + \". It's a \" + classes[train_y[0,index]].decode(\"utf-8\") +  \" picture.\")"
   ]
  },
  {
   "cell_type": "code",
   "execution_count": 4,
   "metadata": {},
   "outputs": [
    {
     "name": "stdout",
     "output_type": "stream",
     "text": [
      "Number of training examples: 209\n",
      "Number of testing examples: 50\n",
      "Each image is of size: (64, 64, 3)\n",
      "train_x_orig shape: (209, 64, 64, 3)\n",
      "train_y shape: (1, 209)\n",
      "test_x_orig shape: (50, 64, 64, 3)\n",
      "test_y shape: (1, 50)\n"
     ]
    }
   ],
   "source": [
    "# Explore your dataset \n",
    "m_train = train_x_orig.shape[0]\n",
    "num_px = train_x_orig.shape[1]\n",
    "m_test = test_x_orig.shape[0]\n",
    "\n",
    "print (\"Number of training examples: \" + str(m_train))\n",
    "print (\"Number of testing examples: \" + str(m_test))\n",
    "print (\"Each image is of size: (\" + str(num_px) + \", \" + str(num_px) + \", 3)\")\n",
    "print (\"train_x_orig shape: \" + str(train_x_orig.shape))\n",
    "print (\"train_y shape: \" + str(train_y.shape))\n",
    "print (\"test_x_orig shape: \" + str(test_x_orig.shape))\n",
    "print (\"test_y shape: \" + str(test_y.shape))"
   ]
  },
  {
   "cell_type": "code",
   "execution_count": 5,
   "metadata": {},
   "outputs": [
    {
     "name": "stdout",
     "output_type": "stream",
     "text": [
      "train_x's shape: (12288, 209)\n",
      "test_x's shape: (12288, 50)\n"
     ]
    }
   ],
   "source": [
    "# Reshape the training and test examples \n",
    "train_x_flatten = train_x_orig.reshape(train_x_orig.shape[0], -1).T   # The \"-1\" makes reshape flatten the remaining dimensions\n",
    "test_x_flatten = test_x_orig.reshape(test_x_orig.shape[0], -1).T\n",
    "\n",
    "# Standardize data to have feature values between 0 and 1.\n",
    "train_x = train_x_flatten/255.\n",
    "test_x = test_x_flatten/255.\n",
    "\n",
    "print (\"train_x's shape: \" + str(train_x.shape))\n",
    "print (\"test_x's shape: \" + str(test_x.shape))\n"
   ]
  },
  {
   "cell_type": "code",
   "execution_count": 70,
   "metadata": {},
   "outputs": [],
   "source": [
    "layers_dims = [12288,10,1]"
   ]
  },
  {
   "cell_type": "code",
   "execution_count": 7,
   "metadata": {},
   "outputs": [],
   "source": [
    "def initialize_deep_parameters(layer_dims):\n",
    "    \n",
    "    parameters = {}\n",
    "    L = len(layer_dims)\n",
    "    \n",
    "    for l in range(1,L):\n",
    "        \n",
    "        parameters[\"W\" + str(l)] = np.random.randn(layer_dims[l],layer_dims[l-1]) * 0.01\n",
    "        parameters[\"b\" + str(l)] = np.zeros((layer_dims[l],1)) \n",
    "        \n",
    "        assert(parameters[\"W\"+str(l)].shape == (layer_dims[l],layer_dims[l-1]))\n",
    "        assert(parameters[\"b\"+str(l)].shape == (layer_dims[l],1))\n",
    "        \n",
    "    return parameters"
   ]
  },
  {
   "cell_type": "code",
   "execution_count": 8,
   "metadata": {},
   "outputs": [
    {
     "name": "stdout",
     "output_type": "stream",
     "text": [
      "W1 :  [[ 0.01624345 -0.00611756 -0.00528172 -0.01072969  0.00865408]\n",
      " [-0.02301539  0.01744812 -0.00761207  0.00319039 -0.0024937 ]\n",
      " [ 0.01462108 -0.02060141 -0.00322417 -0.00384054  0.01133769]\n",
      " [-0.01099891 -0.00172428 -0.00877858  0.00042214  0.00582815]]\n",
      "b1 :  [[0.]\n",
      " [0.]\n",
      " [0.]\n",
      " [0.]]\n",
      "W2 :  [[-0.01100619  0.01144724  0.00901591  0.00502494]\n",
      " [ 0.00900856 -0.00683728 -0.0012289  -0.00935769]\n",
      " [-0.00267888  0.00530355 -0.00691661 -0.00396754]]\n",
      "b2 :  [[0.]\n",
      " [0.]\n",
      " [0.]]\n",
      "W3 :  [[-0.00687173 -0.00845206 -0.00671246]\n",
      " [-0.00012665 -0.0111731   0.00234416]]\n",
      "b3 :  [[0.]\n",
      " [0.]]\n",
      "W4 :  [[0.01659802 0.00742044]]\n",
      "b4 :  [[0.]]\n"
     ]
    }
   ],
   "source": [
    "#check parameter initialization function\n",
    "parameters = initialize_deep_parameters([5,4,3,2,1])\n",
    "for x in range(1,len(layers_dims)):\n",
    "    print(\"W\" + str(x) + \" : \",parameters[\"W\" + str(x)])\n",
    "    print(\"b\" + str(x) + \" : \", parameters[\"b\" + str(x)])"
   ]
  },
  {
   "cell_type": "code",
   "execution_count": 9,
   "metadata": {},
   "outputs": [],
   "source": [
    "def compute_cost(AL,Y):\n",
    "    \n",
    "    m = Y.shape[1]\n",
    "    cost = (-1/m)*(np.dot(Y,np.log(AL).T) + np.dot((1-Y),np.log(1 - AL).T))\n",
    "    cost = np.squeeze(cost)\n",
    "    assert(cost.shape == ())\n",
    "    \n",
    "    return cost"
   ]
  },
  {
   "cell_type": "code",
   "execution_count": 10,
   "metadata": {},
   "outputs": [],
   "source": [
    "def linear_forward(A,W,b):\n",
    "    \n",
    "    Z = np.dot(W,A) + b\n",
    "    \n",
    "    assert(Z.shape == (W.shape[0], A.shape[1]))\n",
    "    cache = (A, W, b)\n",
    "    \n",
    "    return Z, cache"
   ]
  },
  {
   "cell_type": "code",
   "execution_count": 11,
   "metadata": {},
   "outputs": [],
   "source": [
    "def linear_activation_forward(A_prev,W,b,activation):\n",
    "    \n",
    "    if(activation == \"relu\"):\n",
    "        Z,linear_cache = linear_forward(A_prev,W,b)\n",
    "        A,activation_cache = relu(Z)\n",
    "    elif(activation == \"sigmoid\"):\n",
    "        Z,linear_cache = linear_forward(A_prev,W,b)\n",
    "        A,activation_cache = sigmoid(Z)\n",
    "        \n",
    "    assert (A.shape == (W.shape[0], A_prev.shape[1]))\n",
    "    cache = (linear_cache,activation_cache)\n",
    "    \n",
    "    return A,cache\n",
    "        "
   ]
  },
  {
   "cell_type": "code",
   "execution_count": 12,
   "metadata": {},
   "outputs": [],
   "source": [
    "def L_model_forward(X,parameters):\n",
    "        \n",
    "    caches = []  #Each entry contains linear and activation caches\n",
    "                 #of each layer.\n",
    "    L = len(parameters) // 2  \n",
    "    A = X\n",
    "    for l in range(1,L):\n",
    "        A_prev = A\n",
    "        A,cache = linear_activation_forward(A_prev,\n",
    "                                            parameters[\"W\"+str(l)],\n",
    "                                            parameters[\"b\"+str(l)],\n",
    "                                            \"relu\")\n",
    "        caches.append(cache)\n",
    "        \n",
    "    AL,cache = linear_activation_forward(A,\n",
    "                                         parameters[\"W\"+str(L)],\n",
    "                                         parameters[\"b\"+str(L)],\n",
    "                                         \"sigmoid\")\n",
    "    caches.append(cache)\n",
    "    \n",
    "    \n",
    "    assert(AL.shape == (1,X.shape[1]))\n",
    "\n",
    "    return AL,caches\n",
    "        "
   ]
  },
  {
   "cell_type": "code",
   "execution_count": 13,
   "metadata": {},
   "outputs": [],
   "source": [
    "def linear_backward(dZ,cache):\n",
    "    \n",
    "    A_prev,W,b = cache\n",
    "    m = A_prev.shape[1]\n",
    "    \n",
    "    dW = (1/m)*np.dot(dZ,A_prev.T)\n",
    "    db = (1/m)*np.sum(dZ,axis = 1, keepdims = True)\n",
    "    dA_prev = np.dot(W.T,dZ)\n",
    "    \n",
    "    \n",
    "    assert (dA_prev.shape == A_prev.shape)\n",
    "    assert (dW.shape == W.shape)\n",
    "    assert (db.shape == b.shape)\n",
    "    \n",
    "    \n",
    "    return dA_prev,dW,db"
   ]
  },
  {
   "cell_type": "code",
   "execution_count": 14,
   "metadata": {},
   "outputs": [],
   "source": [
    "def linear_activation_backward(dA,cache,activation):\n",
    "    \n",
    "    linear_cache,activation_cache = cache\n",
    "    \n",
    "    if(activation == \"sigmoid\"):\n",
    "        dZ = sigmoid_backward(dA,activation_cache)\n",
    "        dA_prev,dW,db = linear_backward(dZ,linear_cache)\n",
    "    elif(activation == \"relu\"):\n",
    "        dZ = relu_backward(dA,activation_cache)\n",
    "        dA_prev,dW,db = linear_backward(dZ,linear_cache)\n",
    "        \n",
    "    return dA_prev,dW,db"
   ]
  },
  {
   "cell_type": "code",
   "execution_count": 41,
   "metadata": {},
   "outputs": [],
   "source": [
    "def L_model_backward(AL,Y,caches):\n",
    "    \n",
    "    grads = {}\n",
    "    L = len(caches)\n",
    "    m = AL.shape[1]\n",
    "    \n",
    "    dAL = - (np.divide(Y, AL) - np.divide(1 - Y, 1 - AL))\n",
    "    \n",
    "    current_cache = caches[L-1]\n",
    "    grads[\"dA\" + str(L-1)],grads[\"dW\"+str(L)],grads[\"db\"+str(L)] = linear_activation_backward(dAL,\n",
    "                                                                                              current_cache\n",
    "                                                                                              ,\"sigmoid\")\n",
    "    \n",
    "    for l in reversed(range(L-1)):\n",
    "        \n",
    "        current_cache = caches[l]\n",
    "        dA_prev_temp,dW_temp,db_temp = linear_activation_backward(grads[\"dA\"+str(l+1)],\n",
    "                                                                  current_cache,\n",
    "                                                                  activation = \"relu\")\n",
    "        \n",
    "        grads[\"dA\"+str(l)] = dA_prev_temp\n",
    "        grads[\"dW\"+str(l+1)] = dW_temp\n",
    "        grads[\"db\"+str(l+1)] = db_temp\n",
    "        \n",
    "    return grads\n"
   ]
  },
  {
   "cell_type": "code",
   "execution_count": 45,
   "metadata": {},
   "outputs": [],
   "source": [
    "def update_parameters(parameters,grads,learning_rate):\n",
    "    \n",
    "    L = len(parameters) // 2\n",
    "    for l in range(1,L+1):\n",
    "        parameters[\"W\"+str(l)] = parameters[\"W\"+str(l)] - learning_rate*grads[\"dW\"+str(l)]\n",
    "        parameters[\"b\"+str(l)] = parameters[\"b\" +str(l)] - learning_rate*grads[\"db\"+str(l)]\n",
    "        \n",
    "    return parameters\n"
   ]
  },
  {
   "cell_type": "code",
   "execution_count": 17,
   "metadata": {},
   "outputs": [
    {
     "name": "stdout",
     "output_type": "stream",
     "text": [
      "(20, 12288)\n",
      "(20, 1)\n",
      "(7, 20)\n",
      "(7, 1)\n",
      "(5, 7)\n",
      "(5, 1)\n",
      "(1, 5)\n",
      "(1, 1)\n"
     ]
    }
   ],
   "source": [
    "parameters = initialize_deep_parameters(layers_dims)\n",
    "for l in range(1,len(layers_dims)):\n",
    "    print(parameters[\"W\"+str(l)].shape)\n",
    "    print(parameters[\"b\"+str(l)].shape)"
   ]
  },
  {
   "cell_type": "code",
   "execution_count": 64,
   "metadata": {},
   "outputs": [],
   "source": [
    "def L_layer_model(X,Y,layer_dims,learning_rate = 0.0075,num_iterations = 3000):\n",
    "    \n",
    "    costs = []\n",
    "    parameters = initialize_deep_parameters(layer_dims)\n",
    "    \n",
    "    for i in range(num_iterations):\n",
    "        \n",
    "        AL,caches = L_model_forward(X,parameters)\n",
    "        \n",
    "        cost = compute_cost(AL,Y)\n",
    "        \n",
    "        grads = L_model_backward(AL,Y,caches)\n",
    "        \n",
    "        parameters = update_parameters(parameters,grads,learning_rate)\n",
    "        \n",
    "        if i % 100 == 0:\n",
    "            print (\"Cost after iteration %i: %f\" %(i, cost))\n",
    "        if i % 100 == 0:\n",
    "            costs.append(cost)\n",
    "            \n",
    "    # plot the cost\n",
    "    plt.plot(np.squeeze(costs))\n",
    "    plt.ylabel('cost')\n",
    "    plt.xlabel('iterations (per hundreds)')\n",
    "    plt.title(\"Learning rate =\" + str(learning_rate))\n",
    "    plt.show()\n",
    "    \n",
    "    return parameters"
   ]
  },
  {
   "cell_type": "code",
   "execution_count": 68,
   "metadata": {},
   "outputs": [
    {
     "name": "stdout",
     "output_type": "stream",
     "text": [
      "Cost after iteration 0: 0.693184\n",
      "Cost after iteration 100: 0.678003\n",
      "Cost after iteration 200: 0.667575\n",
      "Cost after iteration 300: 0.660390\n",
      "Cost after iteration 400: 0.655424\n",
      "Cost after iteration 500: 0.651981\n",
      "Cost after iteration 600: 0.649585\n",
      "Cost after iteration 700: 0.647912\n",
      "Cost after iteration 800: 0.646741\n",
      "Cost after iteration 900: 0.645920\n",
      "Cost after iteration 1000: 0.645343\n",
      "Cost after iteration 1100: 0.644936\n",
      "Cost after iteration 1200: 0.644649\n",
      "Cost after iteration 1300: 0.644446\n",
      "Cost after iteration 1400: 0.644302\n",
      "Cost after iteration 1500: 0.644199\n",
      "Cost after iteration 1600: 0.644126\n",
      "Cost after iteration 1700: 0.644073\n",
      "Cost after iteration 1800: 0.644035\n",
      "Cost after iteration 1900: 0.644008\n",
      "Cost after iteration 2000: 0.643987\n",
      "Cost after iteration 2100: 0.643971\n",
      "Cost after iteration 2200: 0.643959\n",
      "Cost after iteration 2300: 0.643949\n",
      "Cost after iteration 2400: 0.643941\n",
      "Cost after iteration 2500: 0.643934\n",
      "Cost after iteration 2600: 0.643927\n",
      "Cost after iteration 2700: 0.643920\n",
      "Cost after iteration 2800: 0.643914\n",
      "Cost after iteration 2900: 0.643907\n",
      "Cost after iteration 3000: 0.643899\n",
      "Cost after iteration 3100: 0.643891\n",
      "Cost after iteration 3200: 0.643882\n",
      "Cost after iteration 3300: 0.643872\n",
      "Cost after iteration 3400: 0.643861\n",
      "Cost after iteration 3500: 0.643848\n",
      "Cost after iteration 3600: 0.643834\n",
      "Cost after iteration 3700: 0.643817\n",
      "Cost after iteration 3800: 0.643798\n",
      "Cost after iteration 3900: 0.643775\n",
      "Cost after iteration 4000: 0.643748\n",
      "Cost after iteration 4100: 0.643717\n",
      "Cost after iteration 4200: 0.643681\n",
      "Cost after iteration 4300: 0.643638\n",
      "Cost after iteration 4400: 0.643586\n",
      "Cost after iteration 4500: 0.643523\n",
      "Cost after iteration 4600: 0.643447\n",
      "Cost after iteration 4700: 0.643351\n",
      "Cost after iteration 4800: 0.643232\n",
      "Cost after iteration 4900: 0.643082\n",
      "Cost after iteration 5000: 0.642888\n",
      "Cost after iteration 5100: 0.642636\n",
      "Cost after iteration 5200: 0.642300\n",
      "Cost after iteration 5300: 0.641846\n",
      "Cost after iteration 5400: 0.641221\n",
      "Cost after iteration 5500: 0.640343\n",
      "Cost after iteration 5600: 0.639080\n",
      "Cost after iteration 5700: 0.637223\n",
      "Cost after iteration 5800: 0.634431\n",
      "Cost after iteration 5900: 0.630188\n",
      "Cost after iteration 6000: 0.623546\n",
      "Cost after iteration 6100: 0.613645\n",
      "Cost after iteration 6200: 0.599802\n",
      "Cost after iteration 6300: 0.581537\n",
      "Cost after iteration 6400: 0.558314\n",
      "Cost after iteration 6500: 0.531670\n",
      "Cost after iteration 6600: 0.502742\n",
      "Cost after iteration 6700: 0.473333\n",
      "Cost after iteration 6800: 0.442042\n",
      "Cost after iteration 6900: 0.413516\n",
      "Cost after iteration 7000: 0.387108\n",
      "Cost after iteration 7100: 0.358027\n",
      "Cost after iteration 7200: 0.363114\n",
      "Cost after iteration 7300: 0.320519\n",
      "Cost after iteration 7400: 0.305398\n",
      "Cost after iteration 7500: 0.272604\n",
      "Cost after iteration 7600: 0.256994\n",
      "Cost after iteration 7700: 0.223668\n",
      "Cost after iteration 7800: 0.220395\n",
      "Cost after iteration 7900: 0.201421\n",
      "Cost after iteration 8000: 0.179334\n",
      "Cost after iteration 8100: 0.170797\n",
      "Cost after iteration 8200: 0.195233\n",
      "Cost after iteration 8300: 0.147288\n",
      "Cost after iteration 8400: 0.132393\n",
      "Cost after iteration 8500: 0.152495\n",
      "Cost after iteration 8600: 0.116938\n",
      "Cost after iteration 8700: 0.106104\n",
      "Cost after iteration 8800: 0.101185\n",
      "Cost after iteration 8900: 0.093267\n"
     ]
    },
    {
     "data": {
      "image/png": "[encoded data removed]",
      "text/plain": [
       "<Figure size 432x288 with 1 Axes>"
      ]
     },
     "metadata": {},
     "output_type": "display_data"
    }
   ],
   "source": [
    "parameters = L_layer_model(train_x, train_y, layers_dims,learning_rate = 0.0075, num_iterations = 9000)"
   ]
  },
  {
   "cell_type": "code",
   "execution_count": 55,
   "metadata": {},
   "outputs": [],
   "source": [
    "def predict(parameters,X):\n",
    "    AL,caches=L_model_forward(X,parameters)\n",
    "    Y_prediction=np.round(AL)\n",
    "    return Y_prediction"
   ]
  },
  {
   "cell_type": "code",
   "execution_count": 69,
   "metadata": {},
   "outputs": [
    {
     "name": "stdout",
     "output_type": "stream",
     "text": [
      "Train accuracy : 100.0%\n",
      "Test accuracy : 60.0%\n"
     ]
    }
   ],
   "source": [
    "Y_train_prediction=predict(parameters,train_x)\n",
    "Y_test_prediction=predict(parameters,test_x)\n",
    "print(\"Train accuracy : {}%\".format(100-np.mean(np.abs(Y_train_prediction-train_y))*100))\n",
    "print(\"Test accuracy : {}%\".format(100-np.mean(np.abs(Y_test_prediction-test_y))*100))"
   ]
  }
 ],
 "metadata": {
  "kernelspec": {
   "display_name": "Python 3",
   "language": "python",
   "name": "python3"
  },
  "language_info": {
   "codemirror_mode": {
    "name": "ipython",
    "version": 3
   },
   "file_extension": ".py",
   "mimetype": "text/x-python",
   "name": "python",
   "nbconvert_exporter": "python",
   "pygments_lexer": "ipython3",
   "version": "3.6.8"
  }
 },
 "nbformat": 4,
 "nbformat_minor": 2
}
