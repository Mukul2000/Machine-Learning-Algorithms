{
 "cells": [
  {
   "cell_type": "markdown",
   "metadata": {
    "toc": "true"
   },
   "source": [
    "# Table of Contents\n",
    " <p><div class=\"lev1 toc-item\"><a href=\"#Logistic-Regression-with-a-Neural-Network-mindset\" data-toc-modified-id=\"Logistic-Regression-with-a-Neural-Network-mindset-1\"><span class=\"toc-item-num\">1&nbsp;&nbsp;</span>Logistic Regression with a Neural Network mindset</a></div><div class=\"lev2 toc-item\"><a href=\"#1---Packages\" data-toc-modified-id=\"1---Packages-11\"><span class=\"toc-item-num\">1.1&nbsp;&nbsp;</span>1 - Packages</a></div><div class=\"lev1 toc-item\"><a href=\"#%load-lr_utils.py\" data-toc-modified-id=\"%load-lr_utils.py-2\"><span class=\"toc-item-num\">2&nbsp;&nbsp;</span>%load lr_utils.py</a></div><div class=\"lev2 toc-item\"><a href=\"#2---Overview-of-the-Problem-set\" data-toc-modified-id=\"2---Overview-of-the-Problem-set-21\"><span class=\"toc-item-num\">2.1&nbsp;&nbsp;</span>2 - Overview of the Problem set</a></div><div class=\"lev2 toc-item\"><a href=\"#3---General-Architecture-of-the-learning-algorithm\" data-toc-modified-id=\"3---General-Architecture-of-the-learning-algorithm-22\"><span class=\"toc-item-num\">2.2&nbsp;&nbsp;</span>3 - General Architecture of the learning algorithm</a></div><div class=\"lev2 toc-item\"><a href=\"#4---Building-the-parts-of-our-algorithm\" data-toc-modified-id=\"4---Building-the-parts-of-our-algorithm-23\"><span class=\"toc-item-num\">2.3&nbsp;&nbsp;</span>4 - Building the parts of our algorithm</a></div><div class=\"lev3 toc-item\"><a href=\"#4.1---Helper-functions\" data-toc-modified-id=\"4.1---Helper-functions-231\"><span class=\"toc-item-num\">2.3.1&nbsp;&nbsp;</span>4.1 - Helper functions</a></div><div class=\"lev3 toc-item\"><a href=\"#4.2---Initializing-parameters\" data-toc-modified-id=\"4.2---Initializing-parameters-232\"><span class=\"toc-item-num\">2.3.2&nbsp;&nbsp;</span>4.2 - Initializing parameters</a></div><div class=\"lev3 toc-item\"><a href=\"#4.3---Forward-and-Backward-propagation\" data-toc-modified-id=\"4.3---Forward-and-Backward-propagation-233\"><span class=\"toc-item-num\">2.3.3&nbsp;&nbsp;</span>4.3 - Forward and Backward propagation</a></div><div class=\"lev3 toc-item\"><a href=\"#d)-Optimization\" data-toc-modified-id=\"d)-Optimization-234\"><span class=\"toc-item-num\">2.3.4&nbsp;&nbsp;</span>d) Optimization</a></div><div class=\"lev2 toc-item\"><a href=\"#5---Merge-all-functions-into-a-model\" data-toc-modified-id=\"5---Merge-all-functions-into-a-model-24\"><span class=\"toc-item-num\">2.4&nbsp;&nbsp;</span>5 - Merge all functions into a model</a></div><div class=\"lev2 toc-item\"><a href=\"#6---Further-analysis-(optional/ungraded-exercise)\" data-toc-modified-id=\"6---Further-analysis-(optional/ungraded-exercise)-25\"><span class=\"toc-item-num\">2.5&nbsp;&nbsp;</span>6 - Further analysis (optional/ungraded exercise)</a></div><div class=\"lev4 toc-item\"><a href=\"#Choice-of-learning-rate\" data-toc-modified-id=\"Choice-of-learning-rate-2501\"><span class=\"toc-item-num\">2.5.0.1&nbsp;&nbsp;</span>Choice of learning rate</a></div><div class=\"lev2 toc-item\"><a href=\"#7---Test-with-your-own-image-(optional/ungraded-exercise)\" data-toc-modified-id=\"7---Test-with-your-own-image-(optional/ungraded-exercise)-26\"><span class=\"toc-item-num\">2.6&nbsp;&nbsp;</span>7 - Test with your own image (optional/ungraded exercise)</a></div>"
   ]
  },
  {
   "cell_type": "markdown",
   "metadata": {},
   "source": [
    "# Logistic Regression with a Neural Network mindset\n",
    "\n",
    "Welcome to your first (required) programming assignment! You will build a logistic regression classifier to recognize  cats. This assignment will step you through how to do this with a Neural Network mindset, and so will also hone your intuitions about deep learning.\n",
    "\n",
    "**Instructions:**\n",
    "- Do not use loops (for/while) in your code, unless the instructions explicitly ask you to do so.\n",
    "\n",
    "**You will learn to:**\n",
    "- Build the general architecture of a learning algorithm, including:\n",
    "    - Initializing parameters\n",
    "    - Calculating the cost function and its gradient\n",
    "    - Using an optimization algorithm (gradient descent) \n",
    "- Gather all three functions above into a main model function, in the right order."
   ]
  },
  {
   "cell_type": "markdown",
   "metadata": {},
   "source": [
    "## 1 - Packages ##\n",
    "\n",
    "First, let's run the cell below to import all the packages that you will need during this assignment. \n",
    "- [numpy](www.numpy.org) is the fundamental package for scientific computing with Python.\n",
    "- [h5py](http://www.h5py.org) is a common package to interact with a dataset that is stored on an H5 file.\n",
    "- [matplotlib](http://matplotlib.org) is a famous library to plot graphs in Python.\n",
    "- [PIL](http://www.pythonware.com/products/pil/) and [scipy](https://www.scipy.org/) are used here to test your model with your own picture at the end."
   ]
  },
  {
   "cell_type": "code",
   "execution_count": 1,
   "metadata": {},
   "outputs": [],
   "source": [
    "import numpy as np\n",
    "import matplotlib.pyplot as plt\n",
    "import h5py\n",
    "import scipy\n",
    "from PIL import Image\n",
    "from scipy import ndimage\n",
    "from lr_utils import load_dataset\n",
    "import skimage\n",
    "%matplotlib inline"
   ]
  },
  {
   "cell_type": "markdown",
   "metadata": {},
   "source": [
    "# %load lr_utils.py\n",
    "```python\n",
    "import numpy as np\n",
    "import h5py\n",
    "    \n",
    "    \n",
    "def load_dataset():\n",
    "    train_dataset = h5py.File('datasets/train_catvnoncat.h5', \"r\")\n",
    "    train_set_x_orig = np.array(train_dataset[\"train_set_x\"][:]) # your train set features\n",
    "    train_set_y_orig = np.array(train_dataset[\"train_set_y\"][:]) # your train set labels\n",
    "\n",
    "    test_dataset = h5py.File('datasets/test_catvnoncat.h5', \"r\")\n",
    "    test_set_x_orig = np.array(test_dataset[\"test_set_x\"][:]) # your test set features\n",
    "    test_set_y_orig = np.array(test_dataset[\"test_set_y\"][:]) # your test set labels\n",
    "\n",
    "    classes = np.array(test_dataset[\"list_classes\"][:]) # the list of classes\n",
    "    \n",
    "    train_set_y_orig = train_set_y_orig.reshape((1, train_set_y_orig.shape[0]))\n",
    "    test_set_y_orig = test_set_y_orig.reshape((1, test_set_y_orig.shape[0]))\n",
    "    \n",
    "    return train_set_x_orig, train_set_y_orig, test_set_x_orig, test_set_y_orig, classes\n",
    "    ```"
   ]
  },
  {
   "cell_type": "markdown",
   "metadata": {},
   "source": [
    "## 2 - Overview of the Problem set ##\n",
    "\n",
    "**Problem Statement**: You are given a dataset (\"data.h5\") containing:\n",
    "    - a training set of m_train images labeled as cat (y=1) or non-cat (y=0)\n",
    "    - a test set of m_test images labeled as cat or non-cat\n",
    "    - each image is of shape (num_px, num_px, 3) where 3 is for the 3 channels (RGB). Thus, each image is square (height = num_px) and (width = num_px).\n",
    "\n",
    "You will build a simple image-recognition algorithm that can correctly classify pictures as cat or non-cat.\n",
    "\n",
    "Let's get more familiar with the dataset. Load the data by running the following code."
   ]
  },
  {
   "cell_type": "code",
   "execution_count": 2,
   "metadata": {},
   "outputs": [],
   "source": [
    "# Loading the data (cat/non-cat)\n",
    "train_set_x_orig, train_set_y, test_set_x_orig, test_set_y, classes = load_dataset()"
   ]
  },
  {
   "cell_type": "markdown",
   "metadata": {},
   "source": [
    "We added \"_orig\" at the end of image datasets (train and test) because we are going to preprocess them. After preprocessing, we will end up with train_set_x and test_set_x (the labels train_set_y and test_set_y don't need any preprocessing).\n",
    "\n",
    "Each line of your train_set_x_orig and test_set_x_orig is an array representing an image. You can visualize an example by running the following code. Feel free also to change the `index` value and re-run to see other images. "
   ]
  },
  {
   "cell_type": "code",
   "execution_count": 3,
   "metadata": {},
   "outputs": [
    {
     "name": "stdout",
     "output_type": "stream",
     "text": [
      "y = [1], it's a 'cat' picture.\n"
     ]
    },
    {
     "data": {
      "image/png": "[encoded data removed]",
      "text/plain": [
       "<Figure size 432x288 with 1 Axes>"
      ]
     },
     "metadata": {},
     "output_type": "display_data"
    }
   ],
   "source": [
    "# Example of a picture\n",
    "index = 24\n",
    "example = train_set_x_orig[index]\n",
    "plt.imshow(example)\n",
    "print (\"y = \" + str(train_set_y[:, index]) + \", it's a '\" + classes[np.squeeze(train_set_y[:, index])].decode(\"utf-8\") +  \"' picture.\")"
   ]
  },
  {
   "cell_type": "markdown",
   "metadata": {},
   "source": [
    "Many software bugs in deep learning come from having matrix/vector dimensions that don't fit. If you can keep your matrix/vector dimensions straight you will go a long way toward eliminating many bugs. \n",
    "\n",
    "**Exercise:** Find the values for:\n",
    "    - m_train (number of training examples)\n",
    "    - m_test (number of test examples)\n",
    "    - num_px (= height = width of a training image)\n",
    "Remember that `train_set_x_orig` is a numpy-array of shape (m_train, num_px, num_px, 3). For instance, you can access `m_train` by writing `train_set_x_orig.shape[0]`."
   ]
  },
  {
   "cell_type": "code",
   "execution_count": 4,
   "metadata": {
    "scrolled": true
   },
   "outputs": [
    {
     "name": "stdout",
     "output_type": "stream",
     "text": [
      "Number of training examples: m_train = 209\n",
      "Number of testing examples: m_test = 50\n",
      "Height/Width of each image: num_px = 64\n",
      "Each image is of size: (64, 64, 3)\n",
      "train_set_x shape: (209, 64, 64, 3)\n",
      "train_set_y shape: (1, 209)\n",
      "test_set_x shape: (50, 64, 64, 3)\n",
      "test_set_y shape: (1, 50)\n"
     ]
    }
   ],
   "source": [
    "### START CODE HERE ### (≈ 3 lines of code)\n",
    "m_train = train_set_x_orig.shape[0]\n",
    "m_test = test_set_x_orig.shape[0]\n",
    "num_px = train_set_x_orig.shape[1]\n",
    "### END CODE HERE ###\n",
    "\n",
    "print (\"Number of training examples: m_train = \" + str(m_train))\n",
    "print (\"Number of testing examples: m_test = \" + str(m_test))\n",
    "print (\"Height/Width of each image: num_px = \" + str(num_px))\n",
    "print (\"Each image is of size: (\" + str(num_px) + \", \" + str(num_px) + \", 3)\")\n",
    "print (\"train_set_x shape: \" + str(train_set_x_orig.shape))\n",
    "print (\"train_set_y shape: \" + str(train_set_y.shape))\n",
    "print (\"test_set_x shape: \" + str(test_set_x_orig.shape))\n",
    "print (\"test_set_y shape: \" + str(test_set_y.shape))"
   ]
  },
  {
   "cell_type": "markdown",
   "metadata": {},
   "source": [
    "**Expected Output for m_train, m_test and num_px**: \n",
    "<table style=\"width:15%\">\n",
    "  <tr>\n",
    "    <td>**m_train**</td>\n",
    "    <td> 209 </td> \n",
    "  </tr>\n",
    "  \n",
    "  <tr>\n",
    "    <td>**m_test**</td>\n",
    "    <td> 50 </td> \n",
    "  </tr>\n",
    "  \n",
    "  <tr>\n",
    "    <td>**num_px**</td>\n",
    "    <td> 64 </td> \n",
    "  </tr>\n",
    "  \n",
    "</table>\n"
   ]
  },
  {
   "cell_type": "markdown",
   "metadata": {},
   "source": [
    "For convenience, you should now reshape images of shape (num_px, num_px, 3) in a numpy-array of shape (num_px $*$ num_px $*$ 3, 1). After this, our training (and test) dataset is a numpy-array where each column represents a flattened image. There should be m_train (respectively m_test) columns.\n",
    "\n",
    "**Exercise:** Reshape the training and test data sets so that images of size (num_px, num_px, 3) are flattened into single vectors of shape (num\\_px $*$ num\\_px $*$ 3, 1).\n",
    "\n",
    "A trick when you want to flatten a matrix X of shape (a,b,c,d) to a matrix X_flatten of shape (b$*$c$*$d, a) is to use: \n",
    "```python\n",
    "X_flatten = X.reshape(X.shape[0], -1).T      # X.T is the transpose of X\n",
    "```"
   ]
  },
  {
   "cell_type": "code",
   "execution_count": 5,
   "metadata": {},
   "outputs": [
    {
     "name": "stdout",
     "output_type": "stream",
     "text": [
      "train_set_x_flatten shape: (12288, 209)\n",
      "train_set_y shape: (1, 209)\n",
      "test_set_x_flatten shape: (12288, 50)\n",
      "test_set_y shape: (1, 50)\n",
      "sanity check after reshaping: [17 31 56 22 33]\n"
     ]
    }
   ],
   "source": [
    "# Reshape the training and test examples\n",
    "\n",
    "### START CODE HERE ### (≈ 2 lines of code)\n",
    "train_set_x_flatten = train_set_x_orig.reshape(train_set_x_orig.shape[0],-1).T\n",
    "test_set_x_flatten = test_set_x_orig.reshape(test_set_x_orig.shape[0],-1).T\n",
    "### END CODE HERE ###\n",
    "\n",
    "print (\"train_set_x_flatten shape: \" + str(train_set_x_flatten.shape))\n",
    "print (\"train_set_y shape: \" + str(train_set_y.shape))\n",
    "print (\"test_set_x_flatten shape: \" + str(test_set_x_flatten.shape))\n",
    "print (\"test_set_y shape: \" + str(test_set_y.shape))\n",
    "print (\"sanity check after reshaping: \" + str(train_set_x_flatten[0:5,0]))"
   ]
  },
  {
   "cell_type": "markdown",
   "metadata": {},
   "source": [
    "**Expected Output**: \n",
    "\n",
    "<table style=\"width:35%\">\n",
    "  <tr>\n",
    "    <td>**train_set_x_flatten shape**</td>\n",
    "    <td> (12288, 209)</td> \n",
    "  </tr>\n",
    "  <tr>\n",
    "    <td>**train_set_y shape**</td>\n",
    "    <td>(1, 209)</td> \n",
    "  </tr>\n",
    "  <tr>\n",
    "    <td>**test_set_x_flatten shape**</td>\n",
    "    <td>(12288, 50)</td> \n",
    "  </tr>\n",
    "  <tr>\n",
    "    <td>**test_set_y shape**</td>\n",
    "    <td>(1, 50)</td> \n",
    "  </tr>\n",
    "  <tr>\n",
    "  <td>**sanity check after reshaping**</td>\n",
    "  <td>[17 31 56 22 33]</td> \n",
    "  </tr>\n",
    "</table>"
   ]
  },
  {
   "cell_type": "markdown",
   "metadata": {},
   "source": [
    "To represent color images, the red, green and blue channels (RGB) must be specified for each pixel, and so the pixel value is actually a vector of three numbers ranging from 0 to 255.\n",
    "\n",
    "One common preprocessing step in machine learning is to center and standardize your dataset, meaning that you substract the mean of the whole numpy array from each example, and then divide each example by the standard deviation of the whole numpy array. But for picture datasets, it is simpler and more convenient and works almost as well to just divide every row of the dataset by 255 (the maximum value of a pixel channel).\n",
    "\n",
    "<!-- During the training of your model, you're going to multiply weights and add biases to some initial inputs in order to observe neuron activations. Then you backpropogate with the gradients to train the model. But, it is extremely important for each feature to have a similar range such that our gradients don't explode. You will see that more in detail later in the lectures. !--> \n",
    "\n",
    "Let's standardize our dataset."
   ]
  },
  {
   "cell_type": "code",
   "execution_count": 6,
   "metadata": {},
   "outputs": [],
   "source": [
    "train_set_x = train_set_x_flatten/255\n",
    "test_set_x = test_set_x_flatten/255"
   ]
  },
  {
   "cell_type": "code",
   "execution_count": 7,
   "metadata": {},
   "outputs": [
    {
     "data": {
      "text/plain": [
       "12288"
      ]
     },
     "execution_count": 7,
     "metadata": {},
     "output_type": "execute_result"
    }
   ],
   "source": [
    "len(train_set_x)"
   ]
  },
  {
   "cell_type": "markdown",
   "metadata": {},
   "source": [
    "<font color='blue'>\n",
    "**What you need to remember:**\n",
    "\n",
    "Common steps for pre-processing a new dataset are:\n",
    "- Figure out the dimensions and shapes of the problem (m_train, m_test, num_px, ...)\n",
    "- Reshape the datasets such that each example is now a vector of size (num_px \\* num_px \\* 3, 1)\n",
    "- \"Standardize\" the data"
   ]
  },
  {
   "cell_type": "markdown",
   "metadata": {},
   "source": [
    "## 3 - General Architecture of the learning algorithm ##\n",
    "\n",
    "It's time to design a simple algorithm to distinguish cat images from non-cat images.\n",
    "\n",
    "You will build a Logistic Regression, using a Neural Network mindset. The following Figure explains why **Logistic Regression is actually a very simple Neural Network!**\n",
    "\n",
    "<img src=\"images/LogReg_kiank.png\" style=\"width:650px;height:400px;\">\n",
    "\n",
    "**Mathematical expression of the algorithm**:\n",
    "\n",
    "For one example $x^{(i)}$:\n",
    "$$z^{(i)} = w^T x^{(i)} + b \\tag{1}$$\n",
    "$$\\hat{y}^{(i)} = a^{(i)} = sigmoid(z^{(i)})\\tag{2}$$ \n",
    "$$ \\mathcal{L}(a^{(i)}, y^{(i)}) =  - y^{(i)}  \\log(a^{(i)}) - (1-y^{(i)} )  \\log(1-a^{(i)})\\tag{3}$$\n",
    "\n",
    "The cost is then computed by summing over all training examples:\n",
    "$$ J = \\frac{1}{m} \\sum_{i=1}^m \\mathcal{L}(a^{(i)}, y^{(i)})\\tag{6}$$\n",
    "\n",
    "**Key steps**:\n",
    "In this exercise, you will carry out the following steps: \n",
    "    - Initialize the parameters of the model\n",
    "    - Learn the parameters for the model by minimizing the cost  \n",
    "    - Use the learned parameters to make predictions (on the test set)\n",
    "    - Analyse the results and conclude"
   ]
  },
  {
   "cell_type": "markdown",
   "metadata": {},
   "source": [
    "## 4 - Building the parts of our algorithm ## \n",
    "\n",
    "The main steps for building a Neural Network are:\n",
    "1. Define the model structure (such as number of input features) \n",
    "2. Initialize the model's parameters\n",
    "3. Loop:\n",
    "    - Calculate current loss (forward propagation)\n",
    "    - Calculate current gradient (backward propagation)\n",
    "    - Update parameters (gradient descent)\n",
    "\n",
    "You often build 1-3 separately and integrate them into one function we call `model()`.\n",
    "\n",
    "### 4.1 - Helper functions\n",
    "\n",
    "**Exercise**: Using your code from \"Python Basics\", implement `sigmoid()`. As you've seen in the figure above, you need to compute $sigmoid( w^T x + b) = \\frac{1}{1 + e^{-(w^T x + b)}}$ to make predictions. Use np.exp()."
   ]
  },
  {
   "cell_type": "code",
   "execution_count": 7,
   "metadata": {},
   "outputs": [],
   "source": [
    "# GRADED FUNCTION: sigmoid\n",
    "\n",
    "def sigmoid(z):\n",
    "    \"\"\"\n",
    "    Compute the sigmoid of z\n",
    "\n",
    "    Arguments:\n",
    "    z -- A scalar or numpy array of any size.\n",
    "\n",
    "    Return:\n",
    "    s -- sigmoid(z)\n",
    "    \"\"\"\n",
    "\n",
    "    ### START CODE HERE ### (≈ 1 line of code)\n",
    "    s = 1/(1+np.exp(-z))\n",
    "    ### END CODE HERE ###\n",
    "    \n",
    "    return s"
   ]
  },
  {
   "cell_type": "code",
   "execution_count": 8,
   "metadata": {
    "scrolled": true
   },
   "outputs": [
    {
     "name": "stdout",
     "output_type": "stream",
     "text": [
      "sigmoid([0, 2]) = [0.5        0.88079708]\n"
     ]
    }
   ],
   "source": [
    "print (\"sigmoid([0, 2]) = \" + str(sigmoid(np.array([0,2]))))"
   ]
  },
  {
   "cell_type": "markdown",
   "metadata": {},
   "source": [
    "**Expected Output**: \n",
    "\n",
    "<table>\n",
    "  <tr>\n",
    "    <td>**sigmoid([0, 2])**</td>\n",
    "    <td> [ 0.5         0.88079708]</td> \n",
    "  </tr>\n",
    "</table>"
   ]
  },
  {
   "cell_type": "markdown",
   "metadata": {},
   "source": [
    "### 4.2 - Initializing parameters\n",
    "\n",
    "**Exercise:** Implement parameter initialization in the cell below. You have to initialize w as a vector of zeros. If you don't know what numpy function to use, look up np.zeros() in the Numpy library's documentation."
   ]
  },
  {
   "cell_type": "code",
   "execution_count": 9,
   "metadata": {},
   "outputs": [],
   "source": [
    "# GRADED FUNCTION: initialize_with_zeros\n",
    "\n",
    "def initialize_with_zeros(dim):\n",
    "    \"\"\"\n",
    "    This function creates a vector of zeros of shape (dim, 1) for w and initializes b to 0.\n",
    "    \n",
    "    Argument:\n",
    "    dim -- size of the w vector we want (or number of parameters in this case)\n",
    "    \n",
    "    Returns:\n",
    "    w -- initialized vector of shape (dim, 1)\n",
    "    b -- initialized scalar (corresponds to the bias)\n",
    "    \"\"\"\n",
    "    \n",
    "    ### START CODE HERE ### (≈ 1 line of code)\n",
    "    w = np.zeros((dim,1))\n",
    "    b = 0\n",
    "    ### END CODE HERE ###\n",
    "\n",
    "    assert(w.shape == (dim, 1))\n",
    "    assert(isinstance(b, float) or isinstance(b, int))\n",
    "    \n",
    "    return w, b"
   ]
  },
  {
   "cell_type": "code",
   "execution_count": 10,
   "metadata": {},
   "outputs": [
    {
     "name": "stdout",
     "output_type": "stream",
     "text": [
      "w = [[0.]\n",
      " [0.]]\n",
      "b = 0\n"
     ]
    }
   ],
   "source": [
    "dim = 2\n",
    "w, b = initialize_with_zeros(dim)\n",
    "print (\"w = \" + str(w))\n",
    "print (\"b = \" + str(b))"
   ]
  },
  {
   "cell_type": "markdown",
   "metadata": {},
   "source": [
    "**Expected Output**: \n",
    "\n",
    "\n",
    "<table style=\"width:15%\">\n",
    "    <tr>\n",
    "        <td>  ** w **  </td>\n",
    "        <td> [[ 0.]\n",
    " [ 0.]] </td>\n",
    "    </tr>\n",
    "    <tr>\n",
    "        <td>  ** b **  </td>\n",
    "        <td> 0 </td>\n",
    "    </tr>\n",
    "</table>\n",
    "\n",
    "For image inputs, w will be of shape (num_px $\\times$ num_px $\\times$ 3, 1)."
   ]
  },
  {
   "cell_type": "markdown",
   "metadata": {},
   "source": [
    "### 4.3 - Forward and Backward propagation\n",
    "\n",
    "Now that your parameters are initialized, you can do the \"forward\" and \"backward\" propagation steps for learning the parameters.\n",
    "\n",
    "**Exercise:** Implement a function `propagate()` that computes the cost function and its gradient.\n",
    "\n",
    "**Hints**:\n",
    "\n",
    "Forward Propagation:\n",
    "- You get X\n",
    "- You compute $A = \\sigma(w^T X + b) = (a^{(0)}, a^{(1)}, ..., a^{(m-1)}, a^{(m)})$\n",
    "- You calculate the cost function: $J = -\\frac{1}{m}\\sum_{i=1}^{m}y^{(i)}\\log(a^{(i)})+(1-y^{(i)})\\log(1-a^{(i)})$\n",
    "\n",
    "Here are the two formulas you will be using: \n",
    "\n",
    "$$ \\frac{\\partial J}{\\partial w} = \\frac{1}{m}X(A-Y)^T\\tag{7}$$\n",
    "$$ \\frac{\\partial J}{\\partial b} = \\frac{1}{m} \\sum_{i=1}^m (a^{(i)}-y^{(i)})\\tag{8}$$"
   ]
  },
  {
   "cell_type": "code",
   "execution_count": 11,
   "metadata": {},
   "outputs": [],
   "source": [
    "# GRADED FUNCTION: propagate\n",
    "\n",
    "def propagate(w, b, X, Y):\n",
    "    \"\"\"\n",
    "    Implement the cost function and its gradient for the propagation explained above\n",
    "\n",
    "    Arguments:\n",
    "    w -- weights, a numpy array of size (num_px * num_px * 3, 1)\n",
    "    b -- bias, a scalar\n",
    "    X -- data of size (num_px * num_px * 3, number of examples)\n",
    "    Y -- true \"label\" vector (containing 0 if non-cat, 1 if cat) of size (1, number of examples)\n",
    "\n",
    "    Return:\n",
    "    cost -- negative log-likelihood cost for logistic regression\n",
    "    dw -- gradient of the loss with respect to w, thus same shape as w\n",
    "    db -- gradient of the loss with respect to b, thus same shape as b\n",
    "    \n",
    "    Tips:\n",
    "    - Write your code step by step for the propagation. np.log(), np.dot()\n",
    "    \"\"\"\n",
    "    \n",
    "    m = X.shape[1]\n",
    "    \n",
    "    # FORWARD PROPAGATION (FROM X TO COST)\n",
    "    ### START CODE HERE ### (≈ 2 lines of code)\n",
    "    A = sigmoid(np.dot(w.T,X)+b)\n",
    "    \n",
    "    cost = (-1/m)*(np.dot(Y,np.log(A.T)) + np.dot((1-Y),np.log(1 - A.T)) ) \n",
    "\n",
    "    ### END CODE HERE ###\n",
    "    \n",
    "    # BACKWARD PROPAGATION (TO FIND GRAD)\n",
    "    ### START CODE HERE ### (≈ 2 lines of code)\n",
    "    dw = (1/m)*np.dot(X,(A-Y).T)                                                                       \n",
    "    db = (1/m)*np.sum(A - Y)\n",
    "    ### END CODE HERE ###\n",
    "\n",
    "    assert(dw.shape == w.shape)\n",
    "    assert(db.dtype == float)\n",
    "    cost = np.squeeze(cost)\n",
    "    assert(cost.shape == ())\n",
    "    \n",
    "    grads = {\"dw\": dw,\n",
    "             \"db\": db}\n",
    "    \n",
    "    return grads, cost"
   ]
  },
  {
   "cell_type": "code",
   "execution_count": 12,
   "metadata": {},
   "outputs": [
    {
     "name": "stdout",
     "output_type": "stream",
     "text": [
      "dw = [[0.99993216]\n",
      " [1.99980262]]\n",
      "db = 0.49993523062470574\n",
      "cost = 6.000064773192205\n"
     ]
    }
   ],
   "source": [
    "w, b, X, Y = np.array([[1],[2]]), 2, np.array([[1,2],[3,4]]), np.array([[1,0]])\n",
    "grads, cost = propagate(w, b, X, Y)\n",
    "print (\"dw = \" + str(grads[\"dw\"]))\n",
    "print (\"db = \" + str(grads[\"db\"]))\n",
    "print (\"cost = \" + str(cost))"
   ]
  },
  {
   "cell_type": "markdown",
   "metadata": {},
   "source": [
    "**Expected Output**:\n",
    "\n",
    "<table style=\"width:50%\">\n",
    "    <tr>\n",
    "        <td>  ** dw **  </td>\n",
    "        <td> [[ 0.99993216]\n",
    " [ 1.99980262]]</td>\n",
    "    </tr>\n",
    "    <tr>\n",
    "        <td>  ** db **  </td>\n",
    "        <td> 0.499935230625 </td>\n",
    "    </tr>\n",
    "    <tr>\n",
    "        <td>  ** cost **  </td>\n",
    "        <td> 6.000064773192205</td>\n",
    "    </tr>\n",
    "\n",
    "</table>"
   ]
  },
  {
   "cell_type": "markdown",
   "metadata": {},
   "source": [
    "### d) Optimization\n",
    "- You have initialized your parameters.\n",
    "- You are also able to compute a cost function and its gradient.\n",
    "- Now, you want to update the parameters using gradient descent.\n",
    "\n",
    "**Exercise:** Write down the optimization function. The goal is to learn $w$ and $b$ by minimizing the cost function $J$. For a parameter $\\theta$, the update rule is $ \\theta = \\theta - \\alpha \\text{ } d\\theta$, where $\\alpha$ is the learning rate."
   ]
  },
  {
   "cell_type": "code",
   "execution_count": 13,
   "metadata": {},
   "outputs": [],
   "source": [
    "# GRADED FUNCTION: optimize\n",
    "\n",
    "def optimize(w, b, X, Y, num_iterations, learning_rate, print_cost = False):\n",
    "    \"\"\"\n",
    "    This function optimizes w and b by running a gradient descent algorithm\n",
    "    \n",
    "    Arguments:\n",
    "    w -- weights, a numpy array of size (num_px * num_px * 3, 1)\n",
    "    b -- bias, a scalar\n",
    "    X -- data of shape (num_px * num_px * 3, number of examples)\n",
    "    Y -- true \"label\" vector (containing 0 if non-cat, 1 if cat), of shape (1, number of examples)\n",
    "    num_iterations -- number of iterations of the optimization loop\n",
    "    learning_rate -- learning rate of the gradient descent update rule\n",
    "    print_cost -- True to print the loss every 100 steps\n",
    "    \n",
    "    Returns:\n",
    "    params -- dictionary containing the weights w and bias b\n",
    "    grads -- dictionary containing the gradients of the weights and bias with respect to the cost function\n",
    "    costs -- list of all the costs computed during the optimization, this will be used to plot the learning curve.\n",
    "    -\n",
    "    Tips:\n",
    "    You basically need to write down two steps and iterate through them:\n",
    "        1) Calculate the cost and the gradient for the current parameters. Use propagate().\n",
    "        2) Update the parameters using gradient descent rule for w and b.\n",
    "    \"\"\"\n",
    "    \n",
    "    costs = []\n",
    "    \n",
    "    for i in range(num_iterations):\n",
    "        \n",
    "        \n",
    "        # Cost and gradient calculation (≈ 1-4 lines of code)\n",
    "        ### START CODE HERE ### \n",
    "        grads,cost = propagate(w,b,X,Y)\n",
    "        ### END CODE HERE ###\n",
    "        \n",
    "        # Retrieve derivatives from grads\n",
    "        dw = grads[\"dw\"]\n",
    "        db = grads[\"db\"]\n",
    "        \n",
    "        # update rule (≈ 2 lines of code)\n",
    "        ### START CODE HERE ###\n",
    "        w = w - learning_rate*dw\n",
    "        b = b - learning_rate*db\n",
    "        ### END CODE HERE ###\n",
    "        \n",
    "        # Record the costs\n",
    "        if i % 100 == 0:\n",
    "            costs.append(cost)\n",
    "        \n",
    "        # Print the cost every 100 training examples\n",
    "        if print_cost and i % 100 == 0:\n",
    "            print (\"Cost after iteration %i: %f\" %(i, cost))\n",
    "    \n",
    "    params = {\"w\": w,\n",
    "              \"b\": b}\n",
    "    \n",
    "    grads = {\"dw\": dw,\n",
    "             \"db\": db}\n",
    "    \n",
    "    return params, grads, costs"
   ]
  },
  {
   "cell_type": "code",
   "execution_count": 14,
   "metadata": {},
   "outputs": [
    {
     "name": "stdout",
     "output_type": "stream",
     "text": [
      "w = [[0.1124579 ]\n",
      " [0.23106775]]\n",
      "b = 1.5593049248448891\n",
      "dw = [[0.90158428]\n",
      " [1.76250842]]\n",
      "db = 0.4304620716786828\n"
     ]
    }
   ],
   "source": [
    "params, grads, costs = optimize(w, b, X, Y, num_iterations= 100, learning_rate = 0.009, print_cost = False)\n",
    "\n",
    "print (\"w = \" + str(params[\"w\"]))\n",
    "print (\"b = \" + str(params[\"b\"]))\n",
    "print (\"dw = \" + str(grads[\"dw\"]))\n",
    "print (\"db = \" + str(grads[\"db\"]))"
   ]
  },
  {
   "cell_type": "markdown",
   "metadata": {},
   "source": [
    "**Expected Output**: \n",
    "\n",
    "<table style=\"width:40%\">\n",
    "    <tr>\n",
    "       <td> **w** </td>\n",
    "       <td>[[ 0.1124579 ]\n",
    " [ 0.23106775]] </td>\n",
    "    </tr>\n",
    "    \n",
    "    <tr>\n",
    "       <td> **b** </td>\n",
    "       <td> 1.55930492484 </td>\n",
    "    </tr>\n",
    "    <tr>\n",
    "       <td> **dw** </td>\n",
    "       <td> [[ 0.90158428]\n",
    " [ 1.76250842]] </td>\n",
    "    </tr>\n",
    "    <tr>\n",
    "       <td> **db** </td>\n",
    "       <td> 0.430462071679 </td>\n",
    "    </tr>\n",
    "\n",
    "</table>"
   ]
  },
  {
   "cell_type": "markdown",
   "metadata": {},
   "source": [
    "**Exercise:** The previous function will output the learned w and b. We are able to use w and b to predict the labels for a dataset X. Implement the `predict()` function. There is two steps to computing predictions:\n",
    "\n",
    "1. Calculate $\\hat{Y} = A = \\sigma(w^T X + b)$\n",
    "\n",
    "2. Convert the entries of a into 0 (if activation <= 0.5) or 1 (if activation > 0.5), stores the predictions in a vector `Y_prediction`. If you wish, you can use an `if`/`else` statement in a `for` loop (though there is also a way to vectorize this). "
   ]
  },
  {
   "cell_type": "code",
   "execution_count": 16,
   "metadata": {},
   "outputs": [],
   "source": [
    "# GRADED FUNCTION: predict\n",
    "\n",
    "def predict(w, b, X):\n",
    "    '''\n",
    "    Predict whether the label is 0 or 1 using learned logistic regression parameters (w, b)\n",
    "    \n",
    "    Arguments:\n",
    "    w -- weights, a numpy array of size (num_px * num_px * 3, 1)\n",
    "    b -- bias, a scalar\n",
    "    X -- data of size (num_px * num_px * 3, number of examples)\n",
    "    \n",
    "    Returns:\n",
    "    Y_prediction -- a numpy array (vector) containing all predictions (0/1) for the examples in X\n",
    "    '''\n",
    "    \n",
    "    m = X.shape[1]\n",
    "    Y_prediction = np.zeros((1,m))\n",
    "    w = w.reshape(X.shape[0], 1)\n",
    "    \n",
    "    # Compute vector \"A\" predicting the probabilities of a cat being present in the picture\n",
    "    ### START CODE HERE ### (≈ 1 line of code)\n",
    "    A = sigmoid(np.dot(w.T,X) + b)\n",
    "    ### END CODE HERE ###\n",
    "    \n",
    "    [print(x) for x in A]\n",
    "    for i in range(A.shape[1]):\n",
    "        \n",
    "        # Convert probabilities A[0,i] to actual predictions p[0,i]\n",
    "        ### START CODE HERE ### (≈ 4 lines of code)\n",
    "        if(A[0,i] >= 0.5):\n",
    "            Y_prediction[0,i] = 1\n",
    "        else:\n",
    "            Y_prediction[0,i] = 0\n",
    "        ### END CODE HERE ###\n",
    "    assert(Y_prediction.shape == (1, m))\n",
    "    \n",
    "    return Y_prediction"
   ]
  },
  {
   "cell_type": "code",
   "execution_count": 17,
   "metadata": {},
   "outputs": [
    {
     "name": "stdout",
     "output_type": "stream",
     "text": [
      "[0.99987661 0.99999386]\n",
      "predictions = [[1. 1.]]\n"
     ]
    }
   ],
   "source": [
    "print (\"predictions = \" + str(predict(w, b, X)))"
   ]
  },
  {
   "cell_type": "markdown",
   "metadata": {},
   "source": [
    "**Expected Output**: \n",
    "\n",
    "<table style=\"width:30%\">\n",
    "    <tr>\n",
    "         <td>\n",
    "             **predictions**\n",
    "         </td>\n",
    "          <td>\n",
    "            [[ 1.  1.]]\n",
    "         </td>  \n",
    "   </tr>\n",
    "\n",
    "</table>\n"
   ]
  },
  {
   "cell_type": "markdown",
   "metadata": {},
   "source": [
    "<font color='blue'>\n",
    "**What to remember:**\n",
    "You've implemented several functions that:\n",
    "- Initialize (w,b)\n",
    "- Optimize the loss iteratively to learn parameters (w,b):\n",
    "    - computing the cost and its gradient \n",
    "    - updating the parameters using gradient descent\n",
    "- Use the learned (w,b) to predict the labels for a given set of examples"
   ]
  },
  {
   "cell_type": "markdown",
   "metadata": {},
   "source": [
    "## 5 - Merge all functions into a model ##\n",
    "\n",
    "You will now see how the overall model is structured by putting together all the building blocks (functions implemented in the previous parts) together, in the right order.\n",
    "\n",
    "**Exercise:** Implement the model function. Use the following notation:\n",
    "    - Y_prediction for your predictions on the test set\n",
    "    - Y_prediction_train for your predictions on the train set\n",
    "    - w, costs, grads for the outputs of optimize()"
   ]
  },
  {
   "cell_type": "code",
   "execution_count": 18,
   "metadata": {},
   "outputs": [],
   "source": [
    "# GRADED FUNCTION: model\n",
    "\n",
    "def model(X_train, Y_train, X_test, Y_test, num_iterations = 2000, learning_rate = 0.5, print_cost = False):\n",
    "    \"\"\"\n",
    "    Builds the logistic regression model by calling the function you've implemented previously\n",
    "    \n",
    "    Arguments:\n",
    "    X_train -- training set represented by a numpy array of shape (num_px * num_px * 3, m_train)\n",
    "    Y_train -- training labels represented by a numpy array (vector) of shape (1, m_train)\n",
    "    X_test -- test set represented by a numpy array of shape (num_px * num_px * 3, m_test)\n",
    "    Y_test -- test labels represented by a numpy array (vector) of shape (1, m_test)\n",
    "    num_iterations -- hyperparameter representing the number of iterations to optimize the parameters\n",
    "    learning_rate -- hyperparameter representing the learning rate used in the update rule of optimize()\n",
    "    print_cost -- Set to true to print the cost every 100 iterations\n",
    "    \n",
    "    Returns:\n",
    "    d -- dictionary containing information about the model.\n",
    "    \"\"\"\n",
    "    \n",
    "    ### START CODE HERE ###\n",
    "    # initialize parameters with zeros (≈ 1 line of code)\n",
    "    w,b = initialize_with_zeros(X_train.shape[0])  \n",
    "    params, grads, costs = optimize(w, b, X_train, Y_train, num_iterations, learning_rate = 0.009, print_cost = False)\n",
    "    w = params[\"w\"]\n",
    "    b = params[\"b\"]\n",
    "    \n",
    "    Y_prediction_train = predict(w,b,X_train)\n",
    "    Y_prediction_test = predict(w,b,X_test)\n",
    "    ### END CODE HERE ###\n",
    "\n",
    "    # Print train/test Errors\n",
    "    print(\"train accuracy: {} %\".format(100 - np.mean(np.abs(Y_prediction_train - Y_train)) * 100))\n",
    "    print(\"test accuracy: {} %\".format(100 - np.mean(np.abs(Y_prediction_test - Y_test)) * 100))\n",
    "\n",
    "    \n",
    "    d = {\"costs\": costs,\n",
    "         \"Y_prediction_test\": Y_prediction_test, \n",
    "         \"Y_prediction_train\" : Y_prediction_train, \n",
    "         \"w\" : w, \n",
    "         \"b\" : b,\n",
    "         \"learning_rate\" : learning_rate,\n",
    "         \"num_iterations\": num_iterations}\n",
    "    \n",
    "\n",
    "    return d"
   ]
  },
  {
   "cell_type": "markdown",
   "metadata": {},
   "source": [
    "Run the following cell to train your model."
   ]
  },
  {
   "cell_type": "code",
   "execution_count": 19,
   "metadata": {},
   "outputs": [
    {
     "name": "stdout",
     "output_type": "stream",
     "text": [
      "[1.32840409e-01 5.05634994e-02 9.48507283e-01 3.23800357e-05\n",
      " 2.04639634e-02 6.58493628e-02 1.94211756e-02 9.51221624e-01\n",
      " 4.91550647e-02 3.01547715e-02 6.30120505e-02 8.51521813e-01\n",
      " 1.61322346e-01 9.66630445e-01 8.27653605e-01 2.45062445e-02\n",
      " 8.62603134e-03 2.50425512e-02 5.24273845e-02 9.58921605e-01\n",
      " 5.53915954e-03 2.49875446e-02 1.36798729e-01 2.16686397e-02\n",
      " 9.30297300e-01 9.11438364e-01 2.33729184e-02 9.09047107e-01\n",
      " 2.63234112e-02 8.30331149e-01 5.78647694e-02 4.60888001e-02\n",
      " 1.16960352e-01 1.26105057e-01 5.40607177e-02 1.32046667e-02\n",
      " 4.01760794e-03 2.67198527e-02 9.05506159e-01 2.29031522e-01\n",
      " 1.22713423e-02 6.59438823e-01 8.90357912e-01 1.26225693e-02\n",
      " 2.38116371e-02 6.14525641e-02 5.76314460e-02 8.76671009e-01\n",
      " 4.36502860e-03 1.13117655e-02 8.33026387e-01 1.45634550e-01\n",
      " 8.88351010e-02 2.66221318e-01 9.52898024e-01 6.71332297e-04\n",
      " 9.66672358e-01 8.87320277e-01 2.96179746e-02 9.77289819e-01\n",
      " 8.95443516e-01 8.64497041e-01 2.47286735e-02 2.21399003e-02\n",
      " 1.00698403e-01 4.06199907e-02 1.29702603e-02 1.18581077e-01\n",
      " 8.43628333e-01 8.59601321e-03 2.44188761e-02 9.88772499e-01\n",
      " 4.97338291e-02 8.14048500e-02 3.86926765e-02 5.32116431e-01\n",
      " 1.70092411e-04 1.57552824e-02 5.18469403e-02 1.21733520e-01\n",
      " 6.27722084e-02 3.20941494e-04 1.06096768e-02 9.31072030e-01\n",
      " 8.33875571e-01 8.29739769e-03 7.39421556e-02 2.60310487e-02\n",
      " 8.61241045e-01 1.94409559e-02 1.60617043e-01 5.67439279e-02\n",
      " 7.02105298e-01 9.56010498e-01 9.65049158e-01 9.73293818e-02\n",
      " 9.18576315e-02 9.31720975e-01 2.64473021e-02 1.26982263e-01\n",
      " 8.11785366e-02 2.62633105e-02 8.23506573e-01 6.18513480e-02\n",
      " 9.88842153e-01 5.41112813e-02 9.86571277e-01 8.54780556e-01\n",
      " 9.01073244e-01 8.69231950e-01 9.35011918e-01 9.35795263e-01\n",
      " 8.31645758e-03 5.45348024e-02 4.70255744e-02 2.30361393e-02\n",
      " 3.35948764e-02 9.39426955e-01 2.08994881e-03 8.03717135e-02\n",
      " 3.80208096e-03 7.04958307e-01 1.80453442e-02 2.42343184e-05\n",
      " 8.89126636e-01 2.08078135e-03 8.98404719e-01 8.50470206e-02\n",
      " 9.65898864e-01 9.31586628e-01 2.49865308e-01 8.04396287e-02\n",
      " 5.21843701e-02 9.77614377e-01 8.24505500e-01 7.29653008e-01\n",
      " 9.08030327e-01 9.43371987e-01 1.59579764e-03 1.72428835e-02\n",
      " 1.53260517e-02 1.55821875e-02 9.44692001e-01 2.22838129e-03\n",
      " 8.34704263e-01 8.70812491e-01 9.15321711e-01 1.12150155e-01\n",
      " 9.15941556e-01 9.14991254e-01 3.24256002e-01 5.22321425e-02\n",
      " 1.11312190e-02 9.57500506e-01 3.88413788e-02 1.19119638e-01\n",
      " 9.63071991e-01 6.58274206e-03 5.70472275e-03 2.04733137e-02\n",
      " 1.39917017e-03 2.65642899e-02 8.71993355e-01 3.69178464e-02\n",
      " 9.34307591e-01 7.80847820e-03 9.90331224e-01 1.35664356e-02\n",
      " 2.36607691e-02 8.03244516e-01 8.55573632e-01 9.41912263e-01\n",
      " 1.35806312e-01 4.23041227e-03 9.78904802e-01 8.42707522e-01\n",
      " 1.90518685e-02 8.75265740e-01 4.79143097e-02 8.13260985e-01\n",
      " 3.22526098e-02 2.87648862e-02 1.05550909e-02 1.29115832e-02\n",
      " 3.44201440e-04 8.64673526e-01 2.14660776e-02 4.30212592e-02\n",
      " 8.88028446e-01 9.11654655e-03 2.71861289e-02 2.08526691e-02\n",
      " 8.68308770e-01 2.72311027e-02 1.23404423e-03 6.06744708e-02\n",
      " 2.63888361e-01 9.32799365e-01 4.07924070e-02 8.25351466e-03\n",
      " 8.81821273e-01 4.50038318e-03 5.23555262e-03 6.49449883e-03\n",
      " 1.13015114e-01 1.21437207e-01 4.27483336e-02 1.21187787e-01\n",
      " 1.32790057e-01]\n",
      "[0.97360529 0.92273519 0.92065916 0.96981895 0.79667626 0.57265749\n",
      " 0.00950818 0.89306755 0.91267433 0.71111336 0.17703524 0.45885094\n",
      " 0.77535076 0.86664957 0.0030722  0.9623227  0.01213223 0.91532171\n",
      " 0.13275694 0.01242691 0.97262841 0.11327478 0.004762   0.87209378\n",
      " 0.52403694 0.66839296 0.8550006  0.0036906  0.0112624  0.99945493\n",
      " 0.10404164 0.8244103  0.67682837 0.50477278 0.65080428 0.01466859\n",
      " 0.03823192 0.79992934 0.26626263 0.03528803 0.75945189 0.30521937\n",
      " 0.71141908 0.00977792 0.97133365 0.66696595 0.16606836 0.99251235\n",
      " 0.73892818 0.07121211]\n",
      "train accuracy: 99.52153110047847 %\n",
      "test accuracy: 70.0 %\n"
     ]
    }
   ],
   "source": [
    "d = model(train_set_x, train_set_y, test_set_x, test_set_y, num_iterations = 2000, learning_rate = 0.005, print_cost = True)"
   ]
  },
  {
   "cell_type": "markdown",
   "metadata": {},
   "source": [
    "**Expected Output**: \n",
    "\n",
    "<table style=\"width:40%\"> \n",
    "    \n",
    "    <tr>\n",
    "        <td> **Train Accuracy**  </td> \n",
    "        <td> 99.04306220095694 % </td>\n",
    "    </tr>\n",
    "\n",
    "    <tr>\n",
    "        <td>**Test Accuracy** </td> \n",
    "        <td> 70.0 % </td>\n",
    "    </tr>\n",
    "</table> \n",
    "\n",
    "\n"
   ]
  },
  {
   "cell_type": "markdown",
   "metadata": {},
   "source": [
    "**Comment**: Training accuracy is close to 100%. This is a good sanity check: your model is working and has high enough capacity to fit the training data. Test error is 68%. It is actually not bad for this simple model, given the small dataset we used and that logistic regression is a linear classifier. But no worries, you'll build an even better classifier next week!\n",
    "\n",
    "Also, you see that the model is clearly overfitting the training data. Later in this specialization you will learn how to reduce overfitting, for example by using regularization. Using the code below (and changing the `index` variable) you can look at predictions on pictures of the test set."
   ]
  },
  {
   "cell_type": "code",
   "execution_count": 29,
   "metadata": {},
   "outputs": [
    {
     "name": "stdout",
     "output_type": "stream",
     "text": [
      "y = 1, you predicted that it is a \"non-cat\" picture.\n"
     ]
    },
    {
     "data": {
      "image/png": "[encoded data removed]",
      "text/plain": [
       "<Figure size 432x288 with 1 Axes>"
      ]
     },
     "metadata": {},
     "output_type": "display_data"
    }
   ],
   "source": [
    "# Example of a picture that was wrongly classified.\n",
    "index = 11\n",
    "plt.imshow(test_set_x[:,index].reshape((num_px, num_px, 3)))\n",
    "print (\"y = \" + str(test_set_y[0,index]) + \", you predicted that it is a \\\"\" + classes[int(d[\"Y_prediction_test\"][0,index])].decode(\"utf-8\") +  \"\\\" picture.\")"
   ]
  },
  {
   "cell_type": "markdown",
   "metadata": {},
   "source": [
    "Let's also plot the cost function and the gradients."
   ]
  },
  {
   "cell_type": "code",
   "execution_count": 30,
   "metadata": {},
   "outputs": [
    {
     "data": {
      "image/png": "[encoded data removed]",
      "text/plain": [
       "<Figure size 432x288 with 1 Axes>"
      ]
     },
     "metadata": {},
     "output_type": "display_data"
    }
   ],
   "source": [
    "# Plot learning curve (with costs)\n",
    "costs = np.squeeze(d['costs'])\n",
    "plt.plot(costs)\n",
    "plt.ylabel('cost')\n",
    "plt.xlabel('iterations (per hundreds)')\n",
    "plt.title(\"Learning rate =\" + str(d[\"learning_rate\"]))\n",
    "plt.show()"
   ]
  },
  {
   "cell_type": "markdown",
   "metadata": {},
   "source": [
    "**Interpretation**:\n",
    "You can see the cost decreasing. It shows that the parameters are being learned. However, you see that you could train the model even more on the training set. Try to increase the number of iterations in the cell above and rerun the cells. You might see that the training set accuracy goes up, but the test set accuracy goes down. This is called overfitting. "
   ]
  },
  {
   "cell_type": "markdown",
   "metadata": {},
   "source": [
    "## 6 - Further analysis (optional/ungraded exercise) ##\n",
    "\n",
    "Congratulations on building your first image classification model. Let's analyze it further, and examine possible choices for the learning rate $\\alpha$. "
   ]
  },
  {
   "cell_type": "markdown",
   "metadata": {},
   "source": [
    "#### Choice of learning rate ####\n",
    "\n",
    "**Reminder**:\n",
    "In order for Gradient Descent to work you must choose the learning rate wisely. The learning rate $\\alpha$  determines how rapidly we update the parameters. If the learning rate is too large we may \"overshoot\" the optimal value. Similarly, if it is too small we will need too many iterations to converge to the best values. That's why it is crucial to use a well-tuned learning rate.\n",
    "\n",
    "Let's compare the learning curve of our model with several choices of learning rates. Run the cell below. This should take about 1 minute. Feel free also to try different values than the three we have initialized the `learning_rates` variable to contain, and see what happens. "
   ]
  },
  {
   "cell_type": "code",
   "execution_count": 31,
   "metadata": {},
   "outputs": [
    {
     "name": "stdout",
     "output_type": "stream",
     "text": [
      "learning rate is: 0.01\n",
      "[1.60343360e-01 6.56521474e-02 9.32273219e-01 6.38301356e-05\n",
      " 2.65997554e-02 8.24934879e-02 2.55028923e-02 9.42970215e-01\n",
      " 6.08064437e-02 3.38525886e-02 8.32892824e-02 8.19505814e-01\n",
      " 1.87693002e-01 9.59234114e-01 7.91191942e-01 2.84866318e-02\n",
      " 1.10064664e-02 3.13143027e-02 6.46856663e-02 9.46814937e-01\n",
      " 6.89935304e-03 3.48933720e-02 1.56084105e-01 2.43997984e-02\n",
      " 9.18576535e-01 8.85501692e-01 3.11797892e-02 8.88075706e-01\n",
      " 3.30828973e-02 7.91383427e-01 7.21492347e-02 5.56784730e-02\n",
      " 1.45264950e-01 1.55306629e-01 6.94103283e-02 1.76856217e-02\n",
      " 6.05536155e-03 3.28895367e-02 8.77269256e-01 2.84618234e-01\n",
      " 1.39155283e-02 5.62862503e-01 8.68979190e-01 1.83990107e-02\n",
      " 2.93667285e-02 8.05477266e-02 6.70459832e-02 8.55704085e-01\n",
      " 5.97374063e-03 1.61787111e-02 8.07739948e-01 1.90046261e-01\n",
      " 1.07024674e-01 3.29319718e-01 9.38289268e-01 1.22282939e-03\n",
      " 9.61121870e-01 8.64381072e-01 3.68923759e-02 9.72037084e-01\n",
      " 8.70362202e-01 8.31464143e-01 3.19101985e-02 2.81550839e-02\n",
      " 1.19056009e-01 5.12588431e-02 1.68073160e-02 1.47495367e-01\n",
      " 8.05511395e-01 1.19125124e-02 2.94936895e-02 9.85179095e-01\n",
      " 6.50394543e-02 9.74046207e-02 4.78638576e-02 5.79188876e-01\n",
      " 3.08099923e-04 1.89661661e-02 6.53751183e-02 1.46181287e-01\n",
      " 7.31894640e-02 6.73423478e-04 1.45866598e-02 9.14129824e-01\n",
      " 8.00486320e-01 1.22215927e-02 9.33882074e-02 3.32461599e-02\n",
      " 8.39647075e-01 2.77737212e-02 1.92437192e-01 6.88690036e-02\n",
      " 6.22452817e-01 9.48249851e-01 9.53178241e-01 1.16912911e-01\n",
      " 1.04114077e-01 9.17066548e-01 3.34889330e-02 1.59917576e-01\n",
      " 1.04725678e-01 3.43180595e-02 7.82317045e-01 6.76847029e-02\n",
      " 9.84390859e-01 7.05645778e-02 9.83652100e-01 8.20644509e-01\n",
      " 8.83359193e-01 8.44254706e-01 9.24473778e-01 9.24288021e-01\n",
      " 1.14198568e-02 6.92627239e-02 5.97108715e-02 2.95707930e-02\n",
      " 4.41148437e-02 9.22916728e-01 3.17925821e-03 1.02246594e-01\n",
      " 6.12397885e-03 6.39150628e-01 2.32629803e-02 5.05929283e-05\n",
      " 8.58436201e-01 3.01523722e-03 8.78270984e-01 1.09154229e-01\n",
      " 9.57673747e-01 9.22640832e-01 2.76060413e-01 9.87420328e-02\n",
      " 5.97443724e-02 9.70497439e-01 7.81645906e-01 6.60637006e-01\n",
      " 8.93337888e-01 9.28521711e-01 2.27773741e-03 2.22798879e-02\n",
      " 2.04259987e-02 1.92028502e-02 9.31789367e-01 3.39969681e-03\n",
      " 7.98117507e-01 8.42284819e-01 8.97279318e-01 1.37658095e-01\n",
      " 9.02335236e-01 9.00076295e-01 3.98400335e-01 7.04776899e-02\n",
      " 1.59565173e-02 9.47788650e-01 4.69729632e-02 1.58961515e-01\n",
      " 9.52431697e-01 1.00519993e-02 7.52700764e-03 2.61453257e-02\n",
      " 2.33602977e-03 3.31896282e-02 8.49103431e-01 4.32589320e-02\n",
      " 9.25107856e-01 1.10365051e-02 9.87148156e-01 1.73004025e-02\n",
      " 2.95300711e-02 7.50340802e-01 8.25014231e-01 9.28954979e-01\n",
      " 1.64552814e-01 6.08722321e-03 9.75269398e-01 8.08566939e-01\n",
      " 2.35439122e-02 8.45749658e-01 5.97150357e-02 7.61589682e-01\n",
      " 3.96437397e-02 3.20059390e-02 1.27867175e-02 1.71342708e-02\n",
      " 5.76916136e-04 8.33942313e-01 2.82161282e-02 5.07877744e-02\n",
      " 8.71069938e-01 1.32550896e-02 3.47981634e-02 2.41513772e-02\n",
      " 8.34713236e-01 3.64435426e-02 1.74488467e-03 7.79546589e-02\n",
      " 3.30413217e-01 9.14549919e-01 5.23132800e-02 1.12527652e-02\n",
      " 8.56178437e-01 6.77830335e-03 6.99999185e-03 9.38111222e-03\n",
      " 1.41363724e-01 1.60177522e-01 5.32603132e-02 1.51871678e-01\n",
      " 1.55817664e-01]\n",
      "[0.96603602 0.90394783 0.91415665 0.9578916  0.77775887 0.58776445\n",
      " 0.01524806 0.88964633 0.90861725 0.69497639 0.2124592  0.49741837\n",
      " 0.78344777 0.83809633 0.00405684 0.9542076  0.01478015 0.89727932\n",
      " 0.15292785 0.01834665 0.96148325 0.10788796 0.00741475 0.84418574\n",
      " 0.55011474 0.65300468 0.81472793 0.00577894 0.01699103 0.99921702\n",
      " 0.13645269 0.81288759 0.69453821 0.49084559 0.67071009 0.0208439\n",
      " 0.04940936 0.79229931 0.28876477 0.04464859 0.73617188 0.34455262\n",
      " 0.70616094 0.01513998 0.96144198 0.58199123 0.1936113  0.9870632\n",
      " 0.72606418 0.08104858]\n",
      "train accuracy: 99.52153110047847 %\n",
      "test accuracy: 68.0 %\n",
      "\n",
      "-------------------------------------------------------\n",
      "\n",
      "learning rate is: 0.001\n",
      "[1.60343360e-01 6.56521474e-02 9.32273219e-01 6.38301356e-05\n",
      " 2.65997554e-02 8.24934879e-02 2.55028923e-02 9.42970215e-01\n",
      " 6.08064437e-02 3.38525886e-02 8.32892824e-02 8.19505814e-01\n",
      " 1.87693002e-01 9.59234114e-01 7.91191942e-01 2.84866318e-02\n",
      " 1.10064664e-02 3.13143027e-02 6.46856663e-02 9.46814937e-01\n",
      " 6.89935304e-03 3.48933720e-02 1.56084105e-01 2.43997984e-02\n",
      " 9.18576535e-01 8.85501692e-01 3.11797892e-02 8.88075706e-01\n",
      " 3.30828973e-02 7.91383427e-01 7.21492347e-02 5.56784730e-02\n",
      " 1.45264950e-01 1.55306629e-01 6.94103283e-02 1.76856217e-02\n",
      " 6.05536155e-03 3.28895367e-02 8.77269256e-01 2.84618234e-01\n",
      " 1.39155283e-02 5.62862503e-01 8.68979190e-01 1.83990107e-02\n",
      " 2.93667285e-02 8.05477266e-02 6.70459832e-02 8.55704085e-01\n",
      " 5.97374063e-03 1.61787111e-02 8.07739948e-01 1.90046261e-01\n",
      " 1.07024674e-01 3.29319718e-01 9.38289268e-01 1.22282939e-03\n",
      " 9.61121870e-01 8.64381072e-01 3.68923759e-02 9.72037084e-01\n",
      " 8.70362202e-01 8.31464143e-01 3.19101985e-02 2.81550839e-02\n",
      " 1.19056009e-01 5.12588431e-02 1.68073160e-02 1.47495367e-01\n",
      " 8.05511395e-01 1.19125124e-02 2.94936895e-02 9.85179095e-01\n",
      " 6.50394543e-02 9.74046207e-02 4.78638576e-02 5.79188876e-01\n",
      " 3.08099923e-04 1.89661661e-02 6.53751183e-02 1.46181287e-01\n",
      " 7.31894640e-02 6.73423478e-04 1.45866598e-02 9.14129824e-01\n",
      " 8.00486320e-01 1.22215927e-02 9.33882074e-02 3.32461599e-02\n",
      " 8.39647075e-01 2.77737212e-02 1.92437192e-01 6.88690036e-02\n",
      " 6.22452817e-01 9.48249851e-01 9.53178241e-01 1.16912911e-01\n",
      " 1.04114077e-01 9.17066548e-01 3.34889330e-02 1.59917576e-01\n",
      " 1.04725678e-01 3.43180595e-02 7.82317045e-01 6.76847029e-02\n",
      " 9.84390859e-01 7.05645778e-02 9.83652100e-01 8.20644509e-01\n",
      " 8.83359193e-01 8.44254706e-01 9.24473778e-01 9.24288021e-01\n",
      " 1.14198568e-02 6.92627239e-02 5.97108715e-02 2.95707930e-02\n",
      " 4.41148437e-02 9.22916728e-01 3.17925821e-03 1.02246594e-01\n",
      " 6.12397885e-03 6.39150628e-01 2.32629803e-02 5.05929283e-05\n",
      " 8.58436201e-01 3.01523722e-03 8.78270984e-01 1.09154229e-01\n",
      " 9.57673747e-01 9.22640832e-01 2.76060413e-01 9.87420328e-02\n",
      " 5.97443724e-02 9.70497439e-01 7.81645906e-01 6.60637006e-01\n",
      " 8.93337888e-01 9.28521711e-01 2.27773741e-03 2.22798879e-02\n",
      " 2.04259987e-02 1.92028502e-02 9.31789367e-01 3.39969681e-03\n",
      " 7.98117507e-01 8.42284819e-01 8.97279318e-01 1.37658095e-01\n",
      " 9.02335236e-01 9.00076295e-01 3.98400335e-01 7.04776899e-02\n",
      " 1.59565173e-02 9.47788650e-01 4.69729632e-02 1.58961515e-01\n",
      " 9.52431697e-01 1.00519993e-02 7.52700764e-03 2.61453257e-02\n",
      " 2.33602977e-03 3.31896282e-02 8.49103431e-01 4.32589320e-02\n",
      " 9.25107856e-01 1.10365051e-02 9.87148156e-01 1.73004025e-02\n",
      " 2.95300711e-02 7.50340802e-01 8.25014231e-01 9.28954979e-01\n",
      " 1.64552814e-01 6.08722321e-03 9.75269398e-01 8.08566939e-01\n",
      " 2.35439122e-02 8.45749658e-01 5.97150357e-02 7.61589682e-01\n",
      " 3.96437397e-02 3.20059390e-02 1.27867175e-02 1.71342708e-02\n",
      " 5.76916136e-04 8.33942313e-01 2.82161282e-02 5.07877744e-02\n",
      " 8.71069938e-01 1.32550896e-02 3.47981634e-02 2.41513772e-02\n",
      " 8.34713236e-01 3.64435426e-02 1.74488467e-03 7.79546589e-02\n",
      " 3.30413217e-01 9.14549919e-01 5.23132800e-02 1.12527652e-02\n",
      " 8.56178437e-01 6.77830335e-03 6.99999185e-03 9.38111222e-03\n",
      " 1.41363724e-01 1.60177522e-01 5.32603132e-02 1.51871678e-01\n",
      " 1.55817664e-01]\n",
      "[0.96603602 0.90394783 0.91415665 0.9578916  0.77775887 0.58776445\n",
      " 0.01524806 0.88964633 0.90861725 0.69497639 0.2124592  0.49741837\n",
      " 0.78344777 0.83809633 0.00405684 0.9542076  0.01478015 0.89727932\n",
      " 0.15292785 0.01834665 0.96148325 0.10788796 0.00741475 0.84418574\n",
      " 0.55011474 0.65300468 0.81472793 0.00577894 0.01699103 0.99921702\n",
      " 0.13645269 0.81288759 0.69453821 0.49084559 0.67071009 0.0208439\n",
      " 0.04940936 0.79229931 0.28876477 0.04464859 0.73617188 0.34455262\n",
      " 0.70616094 0.01513998 0.96144198 0.58199123 0.1936113  0.9870632\n",
      " 0.72606418 0.08104858]\n",
      "train accuracy: 99.52153110047847 %\n",
      "test accuracy: 68.0 %\n",
      "\n",
      "-------------------------------------------------------\n",
      "\n",
      "learning rate is: 0.0001\n",
      "[1.60343360e-01 6.56521474e-02 9.32273219e-01 6.38301356e-05\n",
      " 2.65997554e-02 8.24934879e-02 2.55028923e-02 9.42970215e-01\n",
      " 6.08064437e-02 3.38525886e-02 8.32892824e-02 8.19505814e-01\n",
      " 1.87693002e-01 9.59234114e-01 7.91191942e-01 2.84866318e-02\n",
      " 1.10064664e-02 3.13143027e-02 6.46856663e-02 9.46814937e-01\n",
      " 6.89935304e-03 3.48933720e-02 1.56084105e-01 2.43997984e-02\n",
      " 9.18576535e-01 8.85501692e-01 3.11797892e-02 8.88075706e-01\n",
      " 3.30828973e-02 7.91383427e-01 7.21492347e-02 5.56784730e-02\n",
      " 1.45264950e-01 1.55306629e-01 6.94103283e-02 1.76856217e-02\n",
      " 6.05536155e-03 3.28895367e-02 8.77269256e-01 2.84618234e-01\n",
      " 1.39155283e-02 5.62862503e-01 8.68979190e-01 1.83990107e-02\n",
      " 2.93667285e-02 8.05477266e-02 6.70459832e-02 8.55704085e-01\n",
      " 5.97374063e-03 1.61787111e-02 8.07739948e-01 1.90046261e-01\n",
      " 1.07024674e-01 3.29319718e-01 9.38289268e-01 1.22282939e-03\n",
      " 9.61121870e-01 8.64381072e-01 3.68923759e-02 9.72037084e-01\n",
      " 8.70362202e-01 8.31464143e-01 3.19101985e-02 2.81550839e-02\n",
      " 1.19056009e-01 5.12588431e-02 1.68073160e-02 1.47495367e-01\n",
      " 8.05511395e-01 1.19125124e-02 2.94936895e-02 9.85179095e-01\n",
      " 6.50394543e-02 9.74046207e-02 4.78638576e-02 5.79188876e-01\n",
      " 3.08099923e-04 1.89661661e-02 6.53751183e-02 1.46181287e-01\n",
      " 7.31894640e-02 6.73423478e-04 1.45866598e-02 9.14129824e-01\n",
      " 8.00486320e-01 1.22215927e-02 9.33882074e-02 3.32461599e-02\n",
      " 8.39647075e-01 2.77737212e-02 1.92437192e-01 6.88690036e-02\n",
      " 6.22452817e-01 9.48249851e-01 9.53178241e-01 1.16912911e-01\n",
      " 1.04114077e-01 9.17066548e-01 3.34889330e-02 1.59917576e-01\n",
      " 1.04725678e-01 3.43180595e-02 7.82317045e-01 6.76847029e-02\n",
      " 9.84390859e-01 7.05645778e-02 9.83652100e-01 8.20644509e-01\n",
      " 8.83359193e-01 8.44254706e-01 9.24473778e-01 9.24288021e-01\n",
      " 1.14198568e-02 6.92627239e-02 5.97108715e-02 2.95707930e-02\n",
      " 4.41148437e-02 9.22916728e-01 3.17925821e-03 1.02246594e-01\n",
      " 6.12397885e-03 6.39150628e-01 2.32629803e-02 5.05929283e-05\n",
      " 8.58436201e-01 3.01523722e-03 8.78270984e-01 1.09154229e-01\n",
      " 9.57673747e-01 9.22640832e-01 2.76060413e-01 9.87420328e-02\n",
      " 5.97443724e-02 9.70497439e-01 7.81645906e-01 6.60637006e-01\n",
      " 8.93337888e-01 9.28521711e-01 2.27773741e-03 2.22798879e-02\n",
      " 2.04259987e-02 1.92028502e-02 9.31789367e-01 3.39969681e-03\n",
      " 7.98117507e-01 8.42284819e-01 8.97279318e-01 1.37658095e-01\n",
      " 9.02335236e-01 9.00076295e-01 3.98400335e-01 7.04776899e-02\n",
      " 1.59565173e-02 9.47788650e-01 4.69729632e-02 1.58961515e-01\n",
      " 9.52431697e-01 1.00519993e-02 7.52700764e-03 2.61453257e-02\n",
      " 2.33602977e-03 3.31896282e-02 8.49103431e-01 4.32589320e-02\n",
      " 9.25107856e-01 1.10365051e-02 9.87148156e-01 1.73004025e-02\n",
      " 2.95300711e-02 7.50340802e-01 8.25014231e-01 9.28954979e-01\n",
      " 1.64552814e-01 6.08722321e-03 9.75269398e-01 8.08566939e-01\n",
      " 2.35439122e-02 8.45749658e-01 5.97150357e-02 7.61589682e-01\n",
      " 3.96437397e-02 3.20059390e-02 1.27867175e-02 1.71342708e-02\n",
      " 5.76916136e-04 8.33942313e-01 2.82161282e-02 5.07877744e-02\n",
      " 8.71069938e-01 1.32550896e-02 3.47981634e-02 2.41513772e-02\n",
      " 8.34713236e-01 3.64435426e-02 1.74488467e-03 7.79546589e-02\n",
      " 3.30413217e-01 9.14549919e-01 5.23132800e-02 1.12527652e-02\n",
      " 8.56178437e-01 6.77830335e-03 6.99999185e-03 9.38111222e-03\n",
      " 1.41363724e-01 1.60177522e-01 5.32603132e-02 1.51871678e-01\n",
      " 1.55817664e-01]\n",
      "[0.96603602 0.90394783 0.91415665 0.9578916  0.77775887 0.58776445\n",
      " 0.01524806 0.88964633 0.90861725 0.69497639 0.2124592  0.49741837\n",
      " 0.78344777 0.83809633 0.00405684 0.9542076  0.01478015 0.89727932\n",
      " 0.15292785 0.01834665 0.96148325 0.10788796 0.00741475 0.84418574\n",
      " 0.55011474 0.65300468 0.81472793 0.00577894 0.01699103 0.99921702\n",
      " 0.13645269 0.81288759 0.69453821 0.49084559 0.67071009 0.0208439\n",
      " 0.04940936 0.79229931 0.28876477 0.04464859 0.73617188 0.34455262\n",
      " 0.70616094 0.01513998 0.96144198 0.58199123 0.1936113  0.9870632\n",
      " 0.72606418 0.08104858]\n",
      "train accuracy: 99.52153110047847 %\n",
      "test accuracy: 68.0 %\n",
      "\n",
      "-------------------------------------------------------\n",
      "\n"
     ]
    },
    {
     "data": {
      "image/png": "[encoded data removed]",
      "text/plain": [
       "<Figure size 432x288 with 1 Axes>"
      ]
     },
     "metadata": {},
     "output_type": "display_data"
    }
   ],
   "source": [
    "learning_rates = [0.01, 0.001, 0.0001]\n",
    "models = {}\n",
    "for i in learning_rates:\n",
    "    print (\"learning rate is: \" + str(i))\n",
    "    models[str(i)] = model(train_set_x, train_set_y, test_set_x, test_set_y, num_iterations = 1500, learning_rate = i, print_cost = False)\n",
    "    print ('\\n' + \"-------------------------------------------------------\" + '\\n')\n",
    "\n",
    "for i in learning_rates:\n",
    "    plt.plot(np.squeeze(models[str(i)][\"costs\"]), label= str(models[str(i)][\"learning_rate\"]))\n",
    "\n",
    "plt.ylabel('cost')\n",
    "plt.xlabel('iterations')\n",
    "\n",
    "legend = plt.legend(loc='upper center', shadow=True)\n",
    "frame = legend.get_frame()\n",
    "frame.set_facecolor('0.90')\n",
    "plt.show()"
   ]
  },
  {
   "cell_type": "markdown",
   "metadata": {},
   "source": [
    "**Interpretation**: \n",
    "- Different learning rates give different costs and thus different predictions results.\n",
    "- If the learning rate is too large (0.01), the cost may oscillate up and down. It may even diverge (though in this example, using 0.01 still eventually ends up at a good value for the cost). \n",
    "- A lower cost doesn't mean a better model. You have to check if there is possibly overfitting. It happens when the training accuracy is a lot higher than the test accuracy.\n",
    "- In deep learning, we usually recommend that you: \n",
    "    - Choose the learning rate that better minimizes the cost function.\n",
    "    - If your model overfits, use other techniques to reduce overfitting. (We'll talk about this in later videos.) \n"
   ]
  },
  {
   "cell_type": "markdown",
   "metadata": {},
   "source": [
    "## 7 - Test with your own image (optional/ungraded exercise) ##\n",
    "\n",
    "Congratulations on finishing this assignment. You can use your own image and see the output of your model. To do that:\n",
    "    1. Click on \"File\" in the upper bar of this notebook, then click \"Open\" to go on your Coursera Hub.\n",
    "    2. Add your image to this Jupyter Notebook's directory, in the \"images\" folder\n",
    "    3. Change your image's name in the following code\n",
    "    4. Run the code and check if the algorithm is right (1 = cat, 0 = non-cat)!"
   ]
  },
  {
   "cell_type": "code",
   "execution_count": 32,
   "metadata": {
    "scrolled": false
   },
   "outputs": [
    {
     "ename": "AttributeError",
     "evalue": "module 'skimage' has no attribute 'transform'",
     "output_type": "error",
     "traceback": [
      "\u001b[0;31m---------------------------------------------------------------------------\u001b[0m",
      "\u001b[0;31mAttributeError\u001b[0m                            Traceback (most recent call last)",
      "\u001b[0;32m<ipython-input-32-a7851d0183b7>\u001b[0m in \u001b[0;36m<module>\u001b[0;34m()\u001b[0m\n\u001b[1;32m      6\u001b[0m \u001b[0mfname\u001b[0m \u001b[0;34m=\u001b[0m \u001b[0;34m\"images/\"\u001b[0m \u001b[0;34m+\u001b[0m \u001b[0mmy_image\u001b[0m\u001b[0;34m\u001b[0m\u001b[0;34m\u001b[0m\u001b[0m\n\u001b[1;32m      7\u001b[0m \u001b[0mimage\u001b[0m \u001b[0;34m=\u001b[0m \u001b[0mnp\u001b[0m\u001b[0;34m.\u001b[0m\u001b[0marray\u001b[0m\u001b[0;34m(\u001b[0m\u001b[0mplt\u001b[0m\u001b[0;34m.\u001b[0m\u001b[0mimread\u001b[0m\u001b[0;34m(\u001b[0m\u001b[0mfname\u001b[0m\u001b[0;34m)\u001b[0m\u001b[0;34m)\u001b[0m\u001b[0;34m\u001b[0m\u001b[0;34m\u001b[0m\u001b[0m\n\u001b[0;32m----> 8\u001b[0;31m \u001b[0mmy_image\u001b[0m \u001b[0;34m=\u001b[0m \u001b[0mskimage\u001b[0m\u001b[0;34m.\u001b[0m\u001b[0mtransform\u001b[0m\u001b[0;34m.\u001b[0m\u001b[0mresize\u001b[0m\u001b[0;34m(\u001b[0m\u001b[0mimage\u001b[0m\u001b[0;34m,\u001b[0m \u001b[0moutput_shape\u001b[0m\u001b[0;34m=\u001b[0m\u001b[0;34m(\u001b[0m\u001b[0mnum_px\u001b[0m\u001b[0;34m,\u001b[0m\u001b[0mnum_px\u001b[0m\u001b[0;34m)\u001b[0m\u001b[0;34m)\u001b[0m\u001b[0;34m.\u001b[0m\u001b[0mreshape\u001b[0m\u001b[0;34m(\u001b[0m\u001b[0;34m(\u001b[0m\u001b[0;36m1\u001b[0m\u001b[0;34m,\u001b[0m \u001b[0mnum_px\u001b[0m\u001b[0;34m*\u001b[0m\u001b[0mnum_px\u001b[0m\u001b[0;34m*\u001b[0m\u001b[0;36m3\u001b[0m\u001b[0;34m)\u001b[0m\u001b[0;34m)\u001b[0m\u001b[0;34m.\u001b[0m\u001b[0mT\u001b[0m\u001b[0;34m\u001b[0m\u001b[0;34m\u001b[0m\u001b[0m\n\u001b[0m\u001b[1;32m      9\u001b[0m \u001b[0mmy_predicted_image\u001b[0m \u001b[0;34m=\u001b[0m \u001b[0mpredict\u001b[0m\u001b[0;34m(\u001b[0m\u001b[0md\u001b[0m\u001b[0;34m[\u001b[0m\u001b[0;34m\"w\"\u001b[0m\u001b[0;34m]\u001b[0m\u001b[0;34m,\u001b[0m \u001b[0md\u001b[0m\u001b[0;34m[\u001b[0m\u001b[0;34m\"b\"\u001b[0m\u001b[0;34m]\u001b[0m\u001b[0;34m,\u001b[0m \u001b[0mmy_image\u001b[0m\u001b[0;34m)\u001b[0m\u001b[0;34m\u001b[0m\u001b[0;34m\u001b[0m\u001b[0m\n\u001b[1;32m     10\u001b[0m \u001b[0;34m\u001b[0m\u001b[0m\n",
      "\u001b[0;31mAttributeError\u001b[0m: module 'skimage' has no attribute 'transform'"
     ]
    }
   ],
   "source": [
    "## START CODE HERE ## (PUT YOUR IMAGE NAME) \n",
    "my_image = \"my_image.jpg\"   # change this to the name of your image file \n",
    "## END CODE HERE ##\n",
    "\n",
    "# We preprocess the image to fit your algorithm.\n",
    "fname = \"images/\" + my_image\n",
    "image = np.array(plt.imread(fname))\n",
    "my_image = skimage.transform.resize(image, output_shape=(num_px,num_px)).reshape((1, num_px*num_px*3)).T\n",
    "my_predicted_image = predict(d[\"w\"], d[\"b\"], my_image)\n",
    "\n",
    "plt.imshow(image)\n",
    "print(\"y = \" + str(np.squeeze(my_predicted_image)) + \", your algorithm predicts a \\\"\" + classes[int(np.squeeze(my_predicted_image)),].decode(\"utf-8\") +  \"\\\" picture.\")"
   ]
  },
  {
   "cell_type": "markdown",
   "metadata": {},
   "source": [
    "<font color='blue'>\n",
    "**What to remember from this assignment:**\n",
    "1. Preprocessing the dataset is important.\n",
    "2. You implemented each function separately: initialize(), propagate(), optimize(). Then you built a model().\n",
    "3. Tuning the learning rate (which is an example of a \"hyperparameter\") can make a big difference to the algorithm. You will see more examples of this later in this course!"
   ]
  },
  {
   "cell_type": "markdown",
   "metadata": {},
   "source": [
    "Finally, if you'd like, we invite you to try different things on this Notebook. Make sure you submit before trying anything. Once you submit, things you can play with include:\n",
    "    - Play with the learning rate and the number of iterations\n",
    "    - Try different initialization methods and compare the results\n",
    "    - Test other preprocessings (center the data, or divide each row by its standard deviation)"
   ]
  },
  {
   "cell_type": "markdown",
   "metadata": {},
   "source": [
    "Bibliography:\n",
    "- http://www.wildml.com/2015/09/implementing-a-neural-network-from-scratch/\n",
    "- https://stats.stackexchange.com/questions/211436/why-do-we-normalize-images-by-subtracting-the-datasets-image-mean-and-not-the-c"
   ]
  },
  {
   "cell_type": "code",
   "execution_count": 33,
   "metadata": {},
   "outputs": [
    {
     "ename": "ModuleNotFoundError",
     "evalue": "No module named 'version_information'",
     "output_type": "error",
     "traceback": [
      "\u001b[0;31m---------------------------------------------------------------------------\u001b[0m",
      "\u001b[0;31mModuleNotFoundError\u001b[0m                       Traceback (most recent call last)",
      "\u001b[0;32m<ipython-input-33-67c1816841e7>\u001b[0m in \u001b[0;36m<module>\u001b[0;34m()\u001b[0m\n\u001b[0;32m----> 1\u001b[0;31m \u001b[0mget_ipython\u001b[0m\u001b[0;34m(\u001b[0m\u001b[0;34m)\u001b[0m\u001b[0;34m.\u001b[0m\u001b[0mmagic\u001b[0m\u001b[0;34m(\u001b[0m\u001b[0;34m'load_ext version_information'\u001b[0m\u001b[0;34m)\u001b[0m\u001b[0;34m\u001b[0m\u001b[0;34m\u001b[0m\u001b[0m\n\u001b[0m\u001b[1;32m      2\u001b[0m \u001b[0mget_ipython\u001b[0m\u001b[0;34m(\u001b[0m\u001b[0;34m)\u001b[0m\u001b[0;34m.\u001b[0m\u001b[0mmagic\u001b[0m\u001b[0;34m(\u001b[0m\u001b[0;34m'version_information skimage, numpy, matplotlib, h5py, sklearn'\u001b[0m\u001b[0;34m)\u001b[0m\u001b[0;34m\u001b[0m\u001b[0;34m\u001b[0m\u001b[0m\n",
      "\u001b[0;32m/usr/lib/python3/dist-packages/IPython/core/interactiveshell.py\u001b[0m in \u001b[0;36mmagic\u001b[0;34m(self, arg_s)\u001b[0m\n\u001b[1;32m   2158\u001b[0m         \u001b[0mmagic_name\u001b[0m\u001b[0;34m,\u001b[0m \u001b[0m_\u001b[0m\u001b[0;34m,\u001b[0m \u001b[0mmagic_arg_s\u001b[0m \u001b[0;34m=\u001b[0m \u001b[0marg_s\u001b[0m\u001b[0;34m.\u001b[0m\u001b[0mpartition\u001b[0m\u001b[0;34m(\u001b[0m\u001b[0;34m' '\u001b[0m\u001b[0;34m)\u001b[0m\u001b[0;34m\u001b[0m\u001b[0;34m\u001b[0m\u001b[0m\n\u001b[1;32m   2159\u001b[0m         \u001b[0mmagic_name\u001b[0m \u001b[0;34m=\u001b[0m \u001b[0mmagic_name\u001b[0m\u001b[0;34m.\u001b[0m\u001b[0mlstrip\u001b[0m\u001b[0;34m(\u001b[0m\u001b[0mprefilter\u001b[0m\u001b[0;34m.\u001b[0m\u001b[0mESC_MAGIC\u001b[0m\u001b[0;34m)\u001b[0m\u001b[0;34m\u001b[0m\u001b[0;34m\u001b[0m\u001b[0m\n\u001b[0;32m-> 2160\u001b[0;31m         \u001b[0;32mreturn\u001b[0m \u001b[0mself\u001b[0m\u001b[0;34m.\u001b[0m\u001b[0mrun_line_magic\u001b[0m\u001b[0;34m(\u001b[0m\u001b[0mmagic_name\u001b[0m\u001b[0;34m,\u001b[0m \u001b[0mmagic_arg_s\u001b[0m\u001b[0;34m)\u001b[0m\u001b[0;34m\u001b[0m\u001b[0;34m\u001b[0m\u001b[0m\n\u001b[0m\u001b[1;32m   2161\u001b[0m \u001b[0;34m\u001b[0m\u001b[0m\n\u001b[1;32m   2162\u001b[0m     \u001b[0;31m#-------------------------------------------------------------------------\u001b[0m\u001b[0;34m\u001b[0m\u001b[0;34m\u001b[0m\u001b[0;34m\u001b[0m\u001b[0m\n",
      "\u001b[0;32m/usr/lib/python3/dist-packages/IPython/core/interactiveshell.py\u001b[0m in \u001b[0;36mrun_line_magic\u001b[0;34m(self, magic_name, line)\u001b[0m\n\u001b[1;32m   2079\u001b[0m                 \u001b[0mkwargs\u001b[0m\u001b[0;34m[\u001b[0m\u001b[0;34m'local_ns'\u001b[0m\u001b[0;34m]\u001b[0m \u001b[0;34m=\u001b[0m \u001b[0msys\u001b[0m\u001b[0;34m.\u001b[0m\u001b[0m_getframe\u001b[0m\u001b[0;34m(\u001b[0m\u001b[0mstack_depth\u001b[0m\u001b[0;34m)\u001b[0m\u001b[0;34m.\u001b[0m\u001b[0mf_locals\u001b[0m\u001b[0;34m\u001b[0m\u001b[0;34m\u001b[0m\u001b[0m\n\u001b[1;32m   2080\u001b[0m             \u001b[0;32mwith\u001b[0m \u001b[0mself\u001b[0m\u001b[0;34m.\u001b[0m\u001b[0mbuiltin_trap\u001b[0m\u001b[0;34m:\u001b[0m\u001b[0;34m\u001b[0m\u001b[0;34m\u001b[0m\u001b[0m\n\u001b[0;32m-> 2081\u001b[0;31m                 \u001b[0mresult\u001b[0m \u001b[0;34m=\u001b[0m \u001b[0mfn\u001b[0m\u001b[0;34m(\u001b[0m\u001b[0;34m*\u001b[0m\u001b[0margs\u001b[0m\u001b[0;34m,\u001b[0m\u001b[0;34m**\u001b[0m\u001b[0mkwargs\u001b[0m\u001b[0;34m)\u001b[0m\u001b[0;34m\u001b[0m\u001b[0;34m\u001b[0m\u001b[0m\n\u001b[0m\u001b[1;32m   2082\u001b[0m             \u001b[0;32mreturn\u001b[0m \u001b[0mresult\u001b[0m\u001b[0;34m\u001b[0m\u001b[0;34m\u001b[0m\u001b[0m\n\u001b[1;32m   2083\u001b[0m \u001b[0;34m\u001b[0m\u001b[0m\n",
      "\u001b[0;32m</home/spodermon/.local/lib/python3.6/site-packages/decorator.py:decorator-gen-63>\u001b[0m in \u001b[0;36mload_ext\u001b[0;34m(self, module_str)\u001b[0m\n",
      "\u001b[0;32m/usr/lib/python3/dist-packages/IPython/core/magic.py\u001b[0m in \u001b[0;36m<lambda>\u001b[0;34m(f, *a, **k)\u001b[0m\n\u001b[1;32m    186\u001b[0m     \u001b[0;31m# but it's overkill for just that one bit of state.\u001b[0m\u001b[0;34m\u001b[0m\u001b[0;34m\u001b[0m\u001b[0;34m\u001b[0m\u001b[0m\n\u001b[1;32m    187\u001b[0m     \u001b[0;32mdef\u001b[0m \u001b[0mmagic_deco\u001b[0m\u001b[0;34m(\u001b[0m\u001b[0marg\u001b[0m\u001b[0;34m)\u001b[0m\u001b[0;34m:\u001b[0m\u001b[0;34m\u001b[0m\u001b[0;34m\u001b[0m\u001b[0m\n\u001b[0;32m--> 188\u001b[0;31m         \u001b[0mcall\u001b[0m \u001b[0;34m=\u001b[0m \u001b[0;32mlambda\u001b[0m \u001b[0mf\u001b[0m\u001b[0;34m,\u001b[0m \u001b[0;34m*\u001b[0m\u001b[0ma\u001b[0m\u001b[0;34m,\u001b[0m \u001b[0;34m**\u001b[0m\u001b[0mk\u001b[0m\u001b[0;34m:\u001b[0m \u001b[0mf\u001b[0m\u001b[0;34m(\u001b[0m\u001b[0;34m*\u001b[0m\u001b[0ma\u001b[0m\u001b[0;34m,\u001b[0m \u001b[0;34m**\u001b[0m\u001b[0mk\u001b[0m\u001b[0;34m)\u001b[0m\u001b[0;34m\u001b[0m\u001b[0;34m\u001b[0m\u001b[0m\n\u001b[0m\u001b[1;32m    189\u001b[0m \u001b[0;34m\u001b[0m\u001b[0m\n\u001b[1;32m    190\u001b[0m         \u001b[0;32mif\u001b[0m \u001b[0mcallable\u001b[0m\u001b[0;34m(\u001b[0m\u001b[0marg\u001b[0m\u001b[0;34m)\u001b[0m\u001b[0;34m:\u001b[0m\u001b[0;34m\u001b[0m\u001b[0;34m\u001b[0m\u001b[0m\n",
      "\u001b[0;32m/usr/lib/python3/dist-packages/IPython/core/magics/extension.py\u001b[0m in \u001b[0;36mload_ext\u001b[0;34m(self, module_str)\u001b[0m\n\u001b[1;32m     35\u001b[0m         \u001b[0;32mif\u001b[0m \u001b[0;32mnot\u001b[0m \u001b[0mmodule_str\u001b[0m\u001b[0;34m:\u001b[0m\u001b[0;34m\u001b[0m\u001b[0;34m\u001b[0m\u001b[0m\n\u001b[1;32m     36\u001b[0m             \u001b[0;32mraise\u001b[0m \u001b[0mUsageError\u001b[0m\u001b[0;34m(\u001b[0m\u001b[0;34m'Missing module name.'\u001b[0m\u001b[0;34m)\u001b[0m\u001b[0;34m\u001b[0m\u001b[0;34m\u001b[0m\u001b[0m\n\u001b[0;32m---> 37\u001b[0;31m         \u001b[0mres\u001b[0m \u001b[0;34m=\u001b[0m \u001b[0mself\u001b[0m\u001b[0;34m.\u001b[0m\u001b[0mshell\u001b[0m\u001b[0;34m.\u001b[0m\u001b[0mextension_manager\u001b[0m\u001b[0;34m.\u001b[0m\u001b[0mload_extension\u001b[0m\u001b[0;34m(\u001b[0m\u001b[0mmodule_str\u001b[0m\u001b[0;34m)\u001b[0m\u001b[0;34m\u001b[0m\u001b[0;34m\u001b[0m\u001b[0m\n\u001b[0m\u001b[1;32m     38\u001b[0m \u001b[0;34m\u001b[0m\u001b[0m\n\u001b[1;32m     39\u001b[0m         \u001b[0;32mif\u001b[0m \u001b[0mres\u001b[0m \u001b[0;34m==\u001b[0m \u001b[0;34m'already loaded'\u001b[0m\u001b[0;34m:\u001b[0m\u001b[0;34m\u001b[0m\u001b[0;34m\u001b[0m\u001b[0m\n",
      "\u001b[0;32m/usr/lib/python3/dist-packages/IPython/core/extensions.py\u001b[0m in \u001b[0;36mload_extension\u001b[0;34m(self, module_str)\u001b[0m\n\u001b[1;32m     81\u001b[0m             \u001b[0;32mif\u001b[0m \u001b[0mmodule_str\u001b[0m \u001b[0;32mnot\u001b[0m \u001b[0;32min\u001b[0m \u001b[0msys\u001b[0m\u001b[0;34m.\u001b[0m\u001b[0mmodules\u001b[0m\u001b[0;34m:\u001b[0m\u001b[0;34m\u001b[0m\u001b[0;34m\u001b[0m\u001b[0m\n\u001b[1;32m     82\u001b[0m                 \u001b[0;32mwith\u001b[0m \u001b[0mprepended_to_syspath\u001b[0m\u001b[0;34m(\u001b[0m\u001b[0mself\u001b[0m\u001b[0;34m.\u001b[0m\u001b[0mipython_extension_dir\u001b[0m\u001b[0;34m)\u001b[0m\u001b[0;34m:\u001b[0m\u001b[0;34m\u001b[0m\u001b[0;34m\u001b[0m\u001b[0m\n\u001b[0;32m---> 83\u001b[0;31m                     \u001b[0m__import__\u001b[0m\u001b[0;34m(\u001b[0m\u001b[0mmodule_str\u001b[0m\u001b[0;34m)\u001b[0m\u001b[0;34m\u001b[0m\u001b[0;34m\u001b[0m\u001b[0m\n\u001b[0m\u001b[1;32m     84\u001b[0m             \u001b[0mmod\u001b[0m \u001b[0;34m=\u001b[0m \u001b[0msys\u001b[0m\u001b[0;34m.\u001b[0m\u001b[0mmodules\u001b[0m\u001b[0;34m[\u001b[0m\u001b[0mmodule_str\u001b[0m\u001b[0;34m]\u001b[0m\u001b[0;34m\u001b[0m\u001b[0;34m\u001b[0m\u001b[0m\n\u001b[1;32m     85\u001b[0m             \u001b[0;32mif\u001b[0m \u001b[0mself\u001b[0m\u001b[0;34m.\u001b[0m\u001b[0m_call_load_ipython_extension\u001b[0m\u001b[0;34m(\u001b[0m\u001b[0mmod\u001b[0m\u001b[0;34m)\u001b[0m\u001b[0;34m:\u001b[0m\u001b[0;34m\u001b[0m\u001b[0;34m\u001b[0m\u001b[0m\n",
      "\u001b[0;31mModuleNotFoundError\u001b[0m: No module named 'version_information'"
     ]
    }
   ],
   "source": [
    "%load_ext version_information\n",
    "%version_information skimage, numpy, matplotlib, h5py, sklearn"
   ]
  }
 ],
 "metadata": {
  "coursera": {
   "course_slug": "neural-networks-deep-learning",
   "graded_item_id": "XaIWT",
   "launcher_item_id": "zAgPl"
  },
  "kernelspec": {
   "display_name": "Python 3",
   "language": "python",
   "name": "python3"
  },
  "language_info": {
   "codemirror_mode": {
    "name": "ipython",
    "version": 3
   },
   "file_extension": ".py",
   "mimetype": "text/x-python",
   "name": "python",
   "nbconvert_exporter": "python",
   "pygments_lexer": "ipython3",
   "version": "3.6.8"
  },
  "toc": {
   "colors": {
    "hover_highlight": "#DAA520",
    "navigate_num": "#000000",
    "navigate_text": "#333333",
    "running_highlight": "#FF0000",
    "selected_highlight": "#FFD700",
    "sidebar_border": "#EEEEEE",
    "wrapper_background": "#FFFFFF"
   },
   "moveMenuLeft": true,
   "nav_menu": {
    "height": "279px",
    "width": "252px"
   },
   "navigate_menu": true,
   "number_sections": false,
   "sideBar": true,
   "threshold": 4,
   "toc_cell": true,
   "toc_section_display": "block",
   "toc_window_display": true,
   "widenNotebook": false
  }
 },
 "nbformat": 4,
 "nbformat_minor": 2
}
