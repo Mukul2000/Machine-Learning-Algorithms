{
 "cells": [
  {
   "cell_type": "code",
   "execution_count": 2,
   "metadata": {},
   "outputs": [
    {
     "data": {
      "text/plain": [
       "<Figure size 640x480 with 1 Axes>"
      ]
     },
     "metadata": {},
     "output_type": "display_data"
    }
   ],
   "source": [
    "import numpy as np\n",
    "import matplotlib.pyplot as plt\n",
    "import math\n",
    "data = np.loadtxt(open(\"ex2data1.txt\"),delimiter = \",\");\n",
    "X = np.array(data[:,0:2])\n",
    "y = np.array(data[:,2])\n",
    "(m,n) = X.shape\n",
    "theta = np.zeros ((n+1,1))\n",
    "\n",
    "y.shape = (len(data),1)\n",
    "\n",
    "x1 = np.array([])\n",
    "out1 = np.array([])\n",
    "x0 = np.array([])\n",
    "out0 = np.array([])\n",
    "\n",
    "A = np.ones((len(X),1))\n",
    "X = np.c_[A,X]\n",
    "\n",
    "for x in data:\n",
    "    if(x[2]==1):\n",
    "        x1 = np.append(x1,x[0])\n",
    "        out1 = np.append(out1,x[1])\n",
    "    else:\n",
    "        x0 = np.append(x0,x[0])\n",
    "        out0 = np.append(out0,x[1])\n",
    "\n",
    "plt.scatter(x1,out1,marker = 'o',label = 'Admitted')\n",
    "plt.scatter(x0,out0,marker = 'x',label = 'Not Admitted')\n",
    "plt.legend(loc = 'upper left')\n",
    "plt.xlabel(\"Exam 1 score\")\n",
    "plt.ylabel(\"Exam 2 score\")\n",
    "plt.show()\n",
    "\n",
    "\n",
    "\n",
    "\n"
   ]
  },
  {
   "cell_type": "code",
   "execution_count": 3,
   "metadata": {
    "scrolled": false
   },
   "outputs": [
    {
     "name": "stdout",
     "output_type": "stream",
     "text": [
      "Initial Cost :  0.6931471805599453\n"
     ]
    }
   ],
   "source": [
    "def sigmoid(x):\n",
    "    return 1/(1+np.exp(-x))\n",
    "\n",
    "def computeCost(X,theta,y):\n",
    "    m = X.shape[0]\n",
    "    new_arr = np.matmul(X,theta)\n",
    "    pred = (sigmoid(new_arr))\n",
    "    J = (-1/m) * np.sum(np.multiply(np.log(pred), y) + np.multiply(np.log(1-pred), (1-y)))\n",
    "    return J\n",
    "\n",
    "def predict(X,theta):\n",
    "    return sigmoid(X*theta)\n",
    "\n",
    "def GradientDescent(X,y,theta,alpha,num_iters):\n",
    "    for _ in range(num_iters):\n",
    "        predictions = predict(X,theta)\n",
    "    \n",
    "        delta = np.dot(X.T,predictions - y)\n",
    "    \n",
    "        delta = 1/(X.shape[0])\n",
    "    \n",
    "        theta = theta - alpha*delta\n",
    "    return theta\n",
    "   \n",
    "cost = computeCost(X,theta,y)\n",
    "print(\"Initial Cost : \",cost)\n",
    "num_iters = 400\n",
    "alpha = 0.01\n",
    "theta = GradientDescent(X,y,theta,alpha,num_iters)\n",
    "#iterations = [x for x in range(1,num_iters+1)]\n",
    "\n",
    "#print(\"theta after G.D.\",theta)\n",
    "#newCost = computeCost(X,theta,y)\n",
    "#print(\"Final cost\",newCost)\n",
    "#print(J_history)\n",
    "#J_history.shape = (num_iters,1)\n",
    "#plt.plot(iterations,J_history)\n",
    "#plt.show()\n"
   ]
  },
  {
   "cell_type": "code",
   "execution_count": null,
   "metadata": {},
   "outputs": [],
   "source": []
  }
 ],
 "metadata": {
  "kernelspec": {
   "display_name": "Python 3",
   "language": "python",
   "name": "python3"
  },
  "language_info": {
   "codemirror_mode": {
    "name": "ipython",
    "version": 3
   },
   "file_extension": ".py",
   "mimetype": "text/x-python",
   "name": "python",
   "nbconvert_exporter": "python",
   "pygments_lexer": "ipython3",
   "version": "3.6.8"
  }
 },
 "nbformat": 4,
 "nbformat_minor": 2
}
