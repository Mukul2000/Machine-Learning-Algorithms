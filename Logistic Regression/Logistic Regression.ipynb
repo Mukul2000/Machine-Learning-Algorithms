{
 "cells": [
  {
   "cell_type": "code",
   "execution_count": 9,
   "metadata": {},
   "outputs": [
    {
     "name": "stdout",
     "output_type": "stream",
     "text": [
      "100 2\n"
     ]
    },
    {
     "data": {
      "image/png": "[encoded data removed]",
      "text/plain": [
       "<Figure size 432x288 with 1 Axes>"
      ]
     },
     "metadata": {},
     "output_type": "display_data"
    },
    {
     "name": "stdout",
     "output_type": "stream",
     "text": [
      "(100, 3)\n",
      "(3, 1)\n",
      "(100, 1)\n"
     ]
    }
   ],
   "source": [
    "import numpy as np\n",
    "import matplotlib.pyplot as plt\n",
    "\n",
    "data = np.loadtxt(open(\"ex2data1.txt\"),delimiter = \",\");\n",
    "X = np.array(data[:,0:2])\n",
    "y = np.array(data[:,2])\n",
    "(m,n) = X.shape\n",
    "print(m,n)\n",
    "theta = np.zeros((n+1,1))\n",
    "\n",
    "y.shape = (len(data),1)\n",
    "\n",
    "x1 = np.array([])\n",
    "out1 = np.array([])\n",
    "x0 = np.array([])\n",
    "out0 = np.array([])\n",
    "\n",
    "A = np.ones((len(X),1))\n",
    "X = np.c_[A,X]\n",
    "\n",
    "for x in data:\n",
    "    if(x[2]==1):\n",
    "        x1 = np.append(x1,x[0])\n",
    "        out1 = np.append(out1,x[1])\n",
    "    else:\n",
    "        x0 = np.append(x0,x[0])\n",
    "        out0 = np.append(out0,x[1])\n",
    "\n",
    "plt.scatter(x1,out1,marker = 'o',label = 'Admitted')\n",
    "plt.scatter(x0,out0,marker = 'x',label = 'Not Admitted')\n",
    "plt.legend(loc = 'upper left')\n",
    "plt.xlabel(\"Exam 1 score\")\n",
    "plt.ylabel(\"Exam 2 score\")\n",
    "plt.show()\n",
    "\n",
    "print(X.shape)\n",
    "print(theta.shape)\n",
    "print(y.shape)\n",
    "\n",
    "\n",
    "\n"
   ]
  },
  {
   "cell_type": "code",
   "execution_count": 10,
   "metadata": {
    "scrolled": false
   },
   "outputs": [
    {
     "name": "stdout",
     "output_type": "stream",
     "text": [
      "Test Cost :  0.2183301938265977\n",
      "Initial Cost :  0.6931471805599453\n",
      "final parameters are :  [[-0.76754116]\n",
      " [ 0.35868899]\n",
      " [-0.11012487]]\n"
     ]
    },
    {
     "name": "stderr",
     "output_type": "stream",
     "text": [
      "/usr/lib/python3/dist-packages/ipykernel_launcher.py:8: RuntimeWarning: divide by zero encountered in log\n",
      "  \n"
     ]
    },
    {
     "data": {
      "image/png": "[encoded data removed]",
      "text/plain": [
       "<Figure size 432x288 with 1 Axes>"
      ]
     },
     "metadata": {},
     "output_type": "display_data"
    }
   ],
   "source": [
    "def sigmoid(x):\n",
    "    return 1/(1+np.exp(-x))\n",
    "\n",
    "def computeCost(X,y,theta):\n",
    "    m = len(y)\n",
    "    h = sigmoid(np.dot(X,theta))\n",
    "    cost1 = -np.dot(y.T,np.log(h))\n",
    "    cost2 = -np.dot((1-y).T,np.log(1-h))\n",
    "    cost = cost1 + cost2\n",
    "    cost = cost.sum()/m\n",
    "    return cost\n",
    "\n",
    "def GradientDescent(X,y,theta,alpha,iterations):\n",
    "    J_history = np.array([])\n",
    "    m = X.shape[0]\n",
    "    for _ in range(iterations):\n",
    "        predictions = sigmoid(np.dot(X,theta))\n",
    "        gradient = np.dot(X.T,predictions - y)\n",
    "        gradient = (1/m)*gradient;\n",
    "        theta = theta - alpha*gradient;\n",
    "        newCost = computeCost(X,y,theta)\n",
    "        J_history = np.append(J_history,newCost)\n",
    "    return theta,J_history    \n",
    "\n",
    "\"\"\"def GradientDescent(X,y,theta,alpha,iterations):\n",
    "    J_history = np.array([])\n",
    "    m = X.shape[0]\n",
    "    for _ in range(iterations):\n",
    "        h = sigmoid(np.matmul(X, theta))\n",
    "        grad = np.matmul(X.T, (h - y)) / m;\n",
    "        theta = theta - (alpha) * grad\n",
    "        newCost = computeCost(X,y,theta) \n",
    "        J_history = np.append(J_history,newCost)\n",
    "    return theta,J_history\n",
    "    \"\"\"\n",
    "\"\"\"\n",
    "def GradientDescent(X,y,theta,alpha,num_iters):\n",
    "    J_history = np.array([])\n",
    "    m = len(y)\n",
    "    for a in range(num_iters):\n",
    "        pred = sigmoid(np.dot(X,theta))\n",
    "        delta = (1/m)*np.dot(X.T,(pred-y))\n",
    "        theta = theta - alpha*delta\n",
    "        #newCost = computeCost(X,y,theta)\n",
    "        #_history = np.append(J_history,newCost)\n",
    "    #print(\"Final values of theta : \",theta)    \n",
    "    #print(delta.shape)    \n",
    "    return theta#,J_history\n",
    "    \"\"\"\n",
    "\n",
    "\n",
    "\n",
    "test_theta = np.array([-24, 0.2, 0.2])\n",
    "testCost = computeCost(X,y,test_theta) \n",
    "print(\"Test Cost : \",testCost) #cost value OK!  \n",
    "\n",
    "\n",
    "cost = computeCost(X,y,theta)\n",
    "print(\"Initial Cost : \",cost)\n",
    "num_iters = 1000\n",
    "alpha = 0.01\n",
    "theta,J_history = GradientDescent(X,y,theta,alpha,num_iters)\n",
    "    \n",
    "    \n",
    "    \n",
    "print(\"final parameters are : \",theta)\n",
    "iterations = [x for x in range(1,num_iters+1)]\n",
    "\n",
    "#print(\"theta after G.D.\",theta)\n",
    "#newCost = computeCost(X,theta,y)\n",
    "#print(\"Final cost\",newCost)\n",
    "#print(J_history)\n",
    "J_history.shape = (num_iters,1)\n",
    "plt.plot(iterations,J_history)\n",
    "plt.xlabel(\"No of iterations\")\n",
    "plt.ylabel(\"Value of cost fn\")\n",
    "plt.show()\n",
    "\n"
   ]
  },
  {
   "cell_type": "code",
   "execution_count": null,
   "metadata": {},
   "outputs": [],
   "source": []
  }
 ],
 "metadata": {
  "kernelspec": {
   "display_name": "Python 3",
   "language": "python",
   "name": "python3"
  },
  "language_info": {
   "codemirror_mode": {
    "name": "ipython",
    "version": 3
   },
   "file_extension": ".py",
   "mimetype": "text/x-python",
   "name": "python",
   "nbconvert_exporter": "python",
   "pygments_lexer": "ipython3",
   "version": "3.6.8"
  }
 },
 "nbformat": 4,
 "nbformat_minor": 2
}
