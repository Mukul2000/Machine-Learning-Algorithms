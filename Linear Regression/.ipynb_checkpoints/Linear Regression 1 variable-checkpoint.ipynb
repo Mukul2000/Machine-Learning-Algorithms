{
 "cells": [
  {
   "cell_type": "code",
   "execution_count": 4,
   "metadata": {},
   "outputs": [
    {
     "name": "stdout",
     "output_type": "stream",
     "text": [
      "[[0.]\n",
      " [0.]]\n"
     ]
    },
    {
     "data": {
      "image/png": "[encoded data removed]",
      "text/plain": [
       "<Figure size 432x288 with 1 Axes>"
      ]
     },
     "metadata": {},
     "output_type": "display_data"
    },
    {
     "name": "stdout",
     "output_type": "stream",
     "text": [
      "X =  (97, 2)\n",
      "Theta =  (2, 1)\n",
      "y =  (97, 1)\n"
     ]
    }
   ],
   "source": [
    "import numpy as np\n",
    "import matplotlib.pyplot as plt\n",
    "data = np.loadtxt(open(\"ex1data1.txt\"), delimiter = \",\")\n",
    "x = np.array(data[:,0])\n",
    "#print(X)\n",
    "y = np.array(data[:,1])\n",
    "#np.reshape(y,(97,1))\n",
    "y.shape = (97,1)\n",
    "#print(y)\n",
    "m = len(y)\n",
    "theta = np.zeros((2,1))\n",
    "print(theta)\n",
    "A = np.ones(m)\n",
    "\n",
    "\n",
    "plt.scatter(x,y,marker = 'o')\n",
    "plt.xlabel('Population in 10,000s')\n",
    "plt.ylabel('Profit in $10,000s')\n",
    "plt.show()\n",
    "\n",
    "X = np.c_[A,x]\n",
    "#print(X)\n",
    "print(\"X = \", X.shape)\n",
    "print(\"Theta = \",theta.shape)\n",
    "print(\"y = \",y.shape)\n",
    "#print(X)\n",
    "\n",
    "#loaded and plotted data completely"
   ]
  },
  {
   "cell_type": "code",
   "execution_count": 3,
   "metadata": {},
   "outputs": [
    {
     "name": "stdout",
     "output_type": "stream",
     "text": [
      "32.072733877455676\n",
      "Test Cost :  54.24245508201238\n",
      "Obtained final theta [[-3.63029144]\n",
      " [ 1.16636235]]\n"
     ]
    },
    {
     "data": {
      "text/plain": [
       "Text(0, 0.5, 'Value of cost fn')"
      ]
     },
     "execution_count": 3,
     "metadata": {},
     "output_type": "execute_result"
    },
    {
     "data": {
      "image/png": "[encoded data removed]",
      "text/plain": [
       "<Figure size 432x288 with 1 Axes>"
      ]
     },
     "metadata": {},
     "output_type": "display_data"
    }
   ],
   "source": [
    "def computeCost(X,y,theta):\n",
    "    m = len(y)\n",
    "    J = 0\n",
    "    \n",
    "    new_arr = ( np.dot(X , theta) - y)\n",
    "    #print(np.shape(new_arr))\n",
    "    new_arr = np.square(new_arr)\n",
    "    sq = np.sum(new_arr)\n",
    "    J = (1/(2*m)) * sq \n",
    "    return J\n",
    "\n",
    "\n",
    "def GradientDescent(X,y,theta,alpha,num_iters):\n",
    "    J_history = np.array([])\n",
    "    m = len(y)\n",
    "    for a in range(num_iters):\n",
    "        pred = np.dot(X,theta)\n",
    "        delta = (1/m)*np.dot((pred-y).transpose(),X).transpose()\n",
    "        theta = theta - alpha*delta\n",
    "        newCost = computeCost(X,y,theta)\n",
    "        J_history = np.append(J_history,newCost)\n",
    "    #print(\"Final values of theta : \",theta)    \n",
    "    #print(delta.shape)    \n",
    "    return theta,J_history\n",
    "\n",
    "\n",
    "\n",
    "alpha = 0.01\n",
    "iterations = 1500\n",
    "cost = computeCost(X,y,theta)\n",
    "print(cost)\n",
    "theta,J_history = GradientDescent(X,y,theta,alpha,iterations)\n",
    "#print(J_history)\n",
    "test_theta = [\n",
    "    [-1],\n",
    "    [2],\n",
    "]\n",
    "testCost = (computeCost(X,y,test_theta))\n",
    "print(\"Test Cost : \", testCost)\n",
    "print(\"Obtained final theta\", theta)\n",
    "\n",
    "J_history.shape = (iterations,1)\n",
    "iterator = [x for x in range(1,1501)]\n",
    "plt.plot(iterator,J_history)\n",
    "plt.xlabel(\"No of iterations\")\n",
    "plt.ylabel(\"Value of cost fn\")\n",
    "\n",
    "#gradient descent completed\n",
    "\n",
    "#plot the new line\n",
    "\n",
    "\n"
   ]
  },
  {
   "cell_type": "code",
   "execution_count": null,
   "metadata": {},
   "outputs": [],
   "source": []
  },
  {
   "cell_type": "code",
   "execution_count": null,
   "metadata": {},
   "outputs": [],
   "source": []
  }
 ],
 "metadata": {
  "kernelspec": {
   "display_name": "Python 3",
   "language": "python",
   "name": "python3"
  },
  "language_info": {
   "codemirror_mode": {
    "name": "ipython",
    "version": 3
   },
   "file_extension": ".py",
   "mimetype": "text/x-python",
   "name": "python",
   "nbconvert_exporter": "python",
   "pygments_lexer": "ipython3",
   "version": "3.6.8"
  }
 },
 "nbformat": 4,
 "nbformat_minor": 2
}
